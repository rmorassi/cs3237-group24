{
 "cells": [
  {
   "cell_type": "markdown",
   "id": "1208e75e",
   "metadata": {},
   "source": [
    "# First, extract the frames from the video\n",
    "Frame extraction code is based on StackOverflow:\n",
    "https://stackoverflow.com/questions/33311153/python-extracting-and-saving-video-frames"
   ]
  },
  {
   "cell_type": "code",
   "execution_count": 43,
   "id": "2f232274",
   "metadata": {},
   "outputs": [
    {
     "name": "stdout",
     "output_type": "stream",
     "text": [
      "Finished extracting frames of victor's shoes!\n",
      "Finished extracting frames of rik's shoes!\n",
      "Finished extracting frames of tariq's shoes!\n",
      "Finished extracting frames of other0's shoes!\n",
      "Finished extracting frames of other1's shoes!\n",
      "Finished extracting frames of other2's shoes!\n",
      "Finished extracting frames of other3's shoes!\n",
      "Finished extracting frames of other4's shoes!\n",
      "Finished extracting frames of other5's shoes!\n"
     ]
    }
   ],
   "source": [
    "import cv2\n",
    "import os\n",
    "\n",
    "names = [\"victor\", \"rik\", \"tariq\"]\n",
    "\n",
    "others = 6\n",
    "othernames = [\"other\" + str(i) for i in range(others)]\n",
    "\n",
    "base_folder = \"shoe_pics/\"\n",
    "\n",
    "otherFolders = [base_folder + \"extracted/others/\", base_folder + \"cropped/others/\"]\n",
    "for f in otherFolders:\n",
    "    if not os.path.exists(f):\n",
    "        os.makedirs(f)\n",
    "\n",
    "for name in names + othernames:\n",
    "    extractedFolder = base_folder + \"extracted/\" + name + \"/\"\n",
    "    croppedFolder = base_folder + \"cropped/\" + name + \"/\"\n",
    "\n",
    "    if not os.path.exists(extractedFolder):\n",
    "        os.makedirs(extractedFolder)\n",
    "\n",
    "    if not os.path.exists(croppedFolder):\n",
    "        os.makedirs(croppedFolder)\n",
    "\n",
    "\n",
    "    vidcap = cv2.VideoCapture(name + '.mp4')\n",
    "    cont, image = vidcap.read()\n",
    "    count = 0\n",
    "    while cont:\n",
    "        cv2.imwrite(extractedFolder + \"frame%d.jpg\" % count, image)     # save frame as JPEG file      \n",
    "        cont, image = vidcap.read()\n",
    "        count += 1\n",
    "    print(\"Finished extracting frames of \" + name + \"'s shoes!\")"
   ]
  },
  {
   "cell_type": "markdown",
   "id": "d0c84c42",
   "metadata": {},
   "source": [
    "# Setup model"
   ]
  },
  {
   "cell_type": "code",
   "execution_count": 44,
   "id": "0219798b",
   "metadata": {},
   "outputs": [
    {
     "name": "stdout",
     "output_type": "stream",
     "text": [
      "2.10.0\n"
     ]
    }
   ],
   "source": [
    "# %tensorflow_version 1.x\n",
    "import tensorflow as tf\n",
    "print(tf.__version__)"
   ]
  },
  {
   "cell_type": "code",
   "execution_count": 45,
   "id": "7f3f8663",
   "metadata": {},
   "outputs": [],
   "source": [
    "import pathlib\n",
    "\n",
    "# Clone the tensorflow models repository if it doesn't already exist\n",
    "if \"models\" in pathlib.Path.cwd().parts:\n",
    "    while \"models\" in pathlib.Path.cwd().parts:\n",
    "        os.chdir('..')\n",
    "elif not pathlib.Path('models').exists():\n",
    "    !git clone --depth 1 https://github.com/tensorflow/models"
   ]
  },
  {
   "cell_type": "markdown",
   "id": "2340b0ad",
   "metadata": {},
   "source": [
    "# Importing libraries"
   ]
  },
  {
   "cell_type": "code",
   "execution_count": 46,
   "id": "d55a8438",
   "metadata": {},
   "outputs": [],
   "source": [
    "import os\n",
    "import cv2\n",
    "import numpy as np\n",
    "# import tensorflow as tf\n",
    "import tensorflow.compat.v1 as tf\n",
    "import sys\n",
    "# from google.colab.patches import cv2_imshow\n",
    "import matplotlib.pyplot as plt\n",
    "from PIL import Image\n",
    "\n",
    "# This is needed since the notebook is stored in the object_detection folder.\n",
    "sys.path.append(\"..\")\n",
    "\n",
    "# Import utilites\n",
    "from object_detection.utils import label_map_util\n",
    "from object_detection.utils import visualization_utils as vis_util"
   ]
  },
  {
   "cell_type": "markdown",
   "id": "9204857e",
   "metadata": {},
   "source": [
    "# Helper functions"
   ]
  },
  {
   "cell_type": "code",
   "execution_count": 47,
   "id": "d1ccaaf0",
   "metadata": {},
   "outputs": [],
   "source": [
    "def findRange(box):\n",
    "    # Coords in {TopDist, LeftDist, BotDist, RightDist}\n",
    "    # Returns a value between -1 and 1 for left and right\n",
    "    leftDist = box['box'][1]\n",
    "    rightDist = box['box'][3]\n",
    "    avg = (rightDist - leftDist) / 2 + (leftDist)\n",
    "    return avg * 2 - 1\n",
    "    \n",
    "def reduceBoxes(boxes, scores, classes):\n",
    "    '''Function to reduce all the boxes to only the ones being displayed.\n",
    "    Slightly modified version of Shreyas Vedpathak's version from stackoverflow:\n",
    "    https://stackoverflow.com/a/68376832/19442761'''\n",
    "    \n",
    "    max_boxes_to_draw = boxes.shape[0]\n",
    "    min_score_thresh=.5\n",
    "    \n",
    "    # Loop over all objects\n",
    "    coordinates = []\n",
    "    for i in range(min(max_boxes_to_draw, boxes.shape[0])):\n",
    "        if scores[0][i] > min_score_thresh:\n",
    "            class_id = int(classes[0][i] + 1)\n",
    "            coordinates.append({\n",
    "                \"box\": boxes[i],\n",
    "                \"score\": scores[0][i]\n",
    "            })\n",
    "\n",
    "    return coordinates\n",
    "\n",
    "def cropImg(image, box):\n",
    "    # box in {TopDist, LeftDist, BotDist, RightDist}, in ratios\n",
    "    # left, upper, right, and lower\n",
    "    PIL_image = Image.fromarray(np.uint8(image)).convert('RGB')\n",
    "    siz = PIL_image.size\n",
    "    hwhw = np.tile(siz, 2).flatten()\n",
    "\n",
    "    # Cropping as left, upper, right, and lower\n",
    "    newbox = np.array([box[1], box[0], box[3], box[2]])\n",
    "    imgcoords = hwhw * newbox\n",
    " \n",
    "    return PIL_image.crop(imgcoords)"
   ]
  },
  {
   "cell_type": "markdown",
   "id": "42aab365",
   "metadata": {},
   "source": [
    "# Setting up and loading the model"
   ]
  },
  {
   "cell_type": "code",
   "execution_count": 48,
   "id": "622537f5",
   "metadata": {},
   "outputs": [],
   "source": [
    "%matplotlib inline\n",
    "\n",
    "# Grab path to current working directory\n",
    "CWD_PATH = os.getcwd()\n",
    "\n",
    "# Path to frozen detection graph .pb file, which contains the model that is used\n",
    "# for object detection.\n",
    "PATH_TO_CKPT = 'weights/frozen_inference_graph.pb'\n",
    "\n",
    "# Path to label map file\n",
    "PATH_TO_LABELS = 'weights/label_map.pbtxt'\n",
    "\n",
    "# Number of classes the object detector can identify\n",
    "NUM_CLASSES = 1\n",
    "\n",
    "# Load the label map.\n",
    "# Label maps map indices to category names, so that when our convolution\n",
    "# network predicts `5`, we know that this corresponds to `king`.\n",
    "# Here we use internal utility functions, but anything that returns a\n",
    "# dictionary mapping integers to appropriate string labels would be fine\n",
    "category_index = label_map_util.create_category_index_from_labelmap(PATH_TO_LABELS, use_display_name=True)\n",
    "\n",
    "# Load the Tensorflow model into memory.\n",
    "detection_graph = tf.Graph()\n",
    "with detection_graph.as_default():\n",
    "    od_graph_def = tf.GraphDef()\n",
    "    with tf.gfile.GFile(PATH_TO_CKPT, 'rb') as fid:\n",
    "        serialized_graph = fid.read()\n",
    "        od_graph_def.ParseFromString(serialized_graph)\n",
    "        tf.import_graph_def(od_graph_def, name='')\n",
    "\n",
    "    sess = tf.Session(graph=detection_graph)\n",
    "\n",
    "# Define input and output tensors (i.e. data) for the object detection classifier\n",
    "\n",
    "# Input tensor is the image\n",
    "image_tensor = detection_graph.get_tensor_by_name('image_tensor:0')\n",
    "\n",
    "# Output tensors are the detection boxes, scores, and classes\n",
    "# Each box represents a part of the image where a particular object was detected\n",
    "detection_boxes = detection_graph.get_tensor_by_name('detection_boxes:0')\n",
    "\n",
    "# Each score represents level of confidence for each of the objects.\n",
    "# The score is shown on the result image, together with the class label.\n",
    "detection_scores = detection_graph.get_tensor_by_name('detection_scores:0')\n",
    "detection_classes = detection_graph.get_tensor_by_name('detection_classes:0')\n",
    "\n",
    "# Number of objects detected\n",
    "num_detections = detection_graph.get_tensor_by_name('num_detections:0')\n"
   ]
  },
  {
   "cell_type": "markdown",
   "id": "709a8f94",
   "metadata": {},
   "source": [
    "# Running the actual classification and extracting the shoe pictures"
   ]
  },
  {
   "cell_type": "code",
   "execution_count": 49,
   "id": "d9ccb6f0",
   "metadata": {
    "scrolled": false
   },
   "outputs": [
    {
     "name": "stdout",
     "output_type": "stream",
     "text": [
      "Finished cropping victor's shoes!\n",
      "Finished cropping rik's shoes!\n",
      "Finished cropping tariq's shoes!\n",
      "Finished cropping other0's shoes!\n",
      "Finished cropping other1's shoes!\n",
      "Finished cropping other2's shoes!\n",
      "Finished cropping other3's shoes!\n",
      "Finished cropping other4's shoes!\n",
      "Finished cropping other5's shoes!\n"
     ]
    }
   ],
   "source": [
    "# Load image using OpenCV and\n",
    "# expand image dimensions to have shape: [1, None, None, 3]\n",
    "# i.e. a single-column array, where each item in the column has the pixel RGB value\n",
    "for name in names + othernames:\n",
    "    # Define folders to read from and write to\n",
    "    PATH_TO_IMAGE_FOLDER = base_folder + \"extracted/\" + name + \"/\"\n",
    "    croppedFolder = base_folder + \"cropped/\" + name + \"/\"\n",
    "    \n",
    "    # Keep track of the amount of extracted shoes\n",
    "    counter = 0\n",
    "    \n",
    "    for filename in os.listdir(PATH_TO_IMAGE_FOLDER):\n",
    "        if filename.endswith(\".jpg\"):\n",
    "            image_read = cv2.imread(os.path.join(PATH_TO_IMAGE_FOLDER, filename))\n",
    "            image = cv2.cvtColor(image_read, cv2.COLOR_BGR2RGB)\n",
    "            image_expanded = np.expand_dims(image, axis=0)\n",
    "\n",
    "            # Perform the actual detection by running the model with the image as input\n",
    "            (boxes, scores, classes, num) = sess.run([detection_boxes, detection_scores, detection_classes, num_detections],feed_dict={image_tensor: image_expanded})\n",
    "\n",
    "\n",
    "            coords = reduceBoxes(boxes[0], scores, classes)\n",
    "            ranges = [findRange(coords[i]) for i in range(len(coords))]\n",
    "            # Draw the results of the detection (aka 'visulaize the results')\n",
    "            vis_util.visualize_boxes_and_labels_on_image_array(\n",
    "                image,\n",
    "                np.squeeze(boxes),\n",
    "                np.squeeze(classes).astype(np.int32),\n",
    "                np.squeeze(scores),\n",
    "                category_index,\n",
    "                use_normalized_coordinates=True,\n",
    "                line_thickness=5,\n",
    "                min_score_thresh=0.50)\n",
    "\n",
    "            # All the results have been drawn on image. Now display the image.\n",
    "            image_og = cv2.cvtColor(image_read, cv2.COLOR_BGR2RGB)\n",
    "\n",
    "            for box in coords:\n",
    "                cropped = cropImg(image_og, box['box'])\n",
    "                cropped.save(croppedFolder + \"cropped%d.jpg\" % counter)\n",
    "                counter += 1\n",
    "    print(\"Finished cropping \" + name + \"'s shoes!\")"
   ]
  },
  {
   "cell_type": "markdown",
   "id": "9f84107b",
   "metadata": {},
   "source": [
    "# Merge all the 'other' folders"
   ]
  },
  {
   "cell_type": "code",
   "execution_count": 50,
   "id": "aa155ae3",
   "metadata": {},
   "outputs": [],
   "source": [
    "import shutil\n",
    "import re\n",
    "\n",
    "indices = []\n",
    "\n",
    "for otherX in othernames:\n",
    "    croppedSrcFolder = base_folder + \"cropped/\" + otherX + \"/\"\n",
    "    croppedDstFolder = otherFolders[1]\n",
    "    \n",
    "    l = len(os.listdir(croppedSrcFolder))\n",
    "    \n",
    "    for file in os.listdir(croppedSrcFolder):\n",
    "        num = int(re.findall(r'\\d+', file)[0])\n",
    "        newName = re.sub(r'\\d+', str(num + sum(indices)), file)\n",
    "        shutil.move(croppedSrcFolder + file, croppedDstFolder + newName)\n",
    "    \n",
    "    indices.append(l)\n",
    "    \n",
    "    shutil.rmtree(croppedSrcFolder)"
   ]
  },
  {
   "cell_type": "markdown",
   "id": "d1ec8cb4",
   "metadata": {},
   "source": [
    "# Delete the video frames"
   ]
  },
  {
   "cell_type": "code",
   "execution_count": 51,
   "id": "c9728fce",
   "metadata": {},
   "outputs": [],
   "source": [
    "shutil.rmtree(base_folder + \"extracted/\")"
   ]
  },
  {
   "cell_type": "markdown",
   "id": "82ff3b67",
   "metadata": {},
   "source": [
    "# Split data into training and test data"
   ]
  },
  {
   "cell_type": "code",
   "execution_count": 52,
   "id": "f926d9ff",
   "metadata": {
    "scrolled": true
   },
   "outputs": [
    {
     "name": "stderr",
     "output_type": "stream",
     "text": [
      "Copying files: 7138 files [00:00, 9373.13 files/s]"
     ]
    },
    {
     "name": "stdout",
     "output_type": "stream",
     "text": [
      "Finished!\n"
     ]
    },
    {
     "name": "stderr",
     "output_type": "stream",
     "text": [
      "\n"
     ]
    }
   ],
   "source": [
    "import splitfolders\n",
    "cropped_folder = base_folder + \"cropped/\"\n",
    "\n",
    "splitfolders.ratio(cropped_folder, output=base_folder + \"split/\", ratio=(0.8, 0.1, 0.1)) \n",
    "print(\"Finished!\")"
   ]
  },
  {
   "cell_type": "markdown",
   "id": "b1fd4645",
   "metadata": {},
   "source": [
    "# Retrain the imagenet network to add our shoes as classes\n",
    "Based on the transfer learning done in the lab"
   ]
  },
  {
   "cell_type": "code",
   "execution_count": 53,
   "id": "3823c7c3",
   "metadata": {
    "scrolled": true
   },
   "outputs": [
    {
     "name": "stdout",
     "output_type": "stream",
     "text": [
      "\n",
      "Creating new model.\n",
      "\n",
      "\n",
      "Found 5708 images belonging to 4 classes.\n",
      "Found 712 images belonging to 4 classes.\n"
     ]
    },
    {
     "name": "stderr",
     "output_type": "stream",
     "text": [
      "/tmp/ipykernel_32645/3691090310.py:54: UserWarning: `Model.fit_generator` is deprecated and will be removed in a future version. Please use `Model.fit`, which supports generators.\n",
      "  model.fit_generator(train_generator, steps_per_epoch = steps, epochs = num_epochs, callbacks = [checkpoint], validation_data=validation_generator, validation_steps=50)\n"
     ]
    },
    {
     "name": "stdout",
     "output_type": "stream",
     "text": [
      "Epoch 1/10\n",
      "110/110 [==============================] - ETA: 0s - loss: 0.4423WARNING:tensorflow:Your input ran out of data; interrupting training. Make sure that your dataset or generator can generate at least `steps_per_epoch * epochs` batches (in this case, 50 batches). You may need to use the repeat() function when building your dataset.\n"
     ]
    },
    {
     "name": "stderr",
     "output_type": "stream",
     "text": [
      "WARNING:absl:Found untraced functions such as _jit_compiled_convolution_op, _jit_compiled_convolution_op, _jit_compiled_convolution_op, _jit_compiled_convolution_op, _jit_compiled_convolution_op while saving (showing 5 of 94). These functions will not be directly callable after loading.\n"
     ]
    },
    {
     "name": "stdout",
     "output_type": "stream",
     "text": [
      "INFO:tensorflow:Assets written to: shoes.hd5/assets\n"
     ]
    },
    {
     "name": "stderr",
     "output_type": "stream",
     "text": [
      "INFO:tensorflow:Assets written to: shoes.hd5/assets\n"
     ]
    },
    {
     "name": "stdout",
     "output_type": "stream",
     "text": [
      "110/110 [==============================] - 246s 2s/step - loss: 0.4423 - val_loss: 0.2551\n",
      "Epoch 2/10\n",
      "110/110 [==============================] - ETA: 0s - loss: 0.0894"
     ]
    },
    {
     "name": "stderr",
     "output_type": "stream",
     "text": [
      "WARNING:absl:Found untraced functions such as _jit_compiled_convolution_op, _jit_compiled_convolution_op, _jit_compiled_convolution_op, _jit_compiled_convolution_op, _jit_compiled_convolution_op while saving (showing 5 of 94). These functions will not be directly callable after loading.\n"
     ]
    },
    {
     "name": "stdout",
     "output_type": "stream",
     "text": [
      "INFO:tensorflow:Assets written to: shoes.hd5/assets\n"
     ]
    },
    {
     "name": "stderr",
     "output_type": "stream",
     "text": [
      "INFO:tensorflow:Assets written to: shoes.hd5/assets\n"
     ]
    },
    {
     "name": "stdout",
     "output_type": "stream",
     "text": [
      "110/110 [==============================] - 200s 2s/step - loss: 0.0894\n",
      "Epoch 3/10\n",
      "110/110 [==============================] - ETA: 0s - loss: 0.0697"
     ]
    },
    {
     "name": "stderr",
     "output_type": "stream",
     "text": [
      "WARNING:absl:Found untraced functions such as _jit_compiled_convolution_op, _jit_compiled_convolution_op, _jit_compiled_convolution_op, _jit_compiled_convolution_op, _jit_compiled_convolution_op while saving (showing 5 of 94). These functions will not be directly callable after loading.\n"
     ]
    },
    {
     "name": "stdout",
     "output_type": "stream",
     "text": [
      "INFO:tensorflow:Assets written to: shoes.hd5/assets\n"
     ]
    },
    {
     "name": "stderr",
     "output_type": "stream",
     "text": [
      "INFO:tensorflow:Assets written to: shoes.hd5/assets\n"
     ]
    },
    {
     "name": "stdout",
     "output_type": "stream",
     "text": [
      "110/110 [==============================] - 203s 2s/step - loss: 0.0697\n",
      "Epoch 4/10\n",
      "110/110 [==============================] - ETA: 0s - loss: 0.0475"
     ]
    },
    {
     "name": "stderr",
     "output_type": "stream",
     "text": [
      "WARNING:absl:Found untraced functions such as _jit_compiled_convolution_op, _jit_compiled_convolution_op, _jit_compiled_convolution_op, _jit_compiled_convolution_op, _jit_compiled_convolution_op while saving (showing 5 of 94). These functions will not be directly callable after loading.\n"
     ]
    },
    {
     "name": "stdout",
     "output_type": "stream",
     "text": [
      "INFO:tensorflow:Assets written to: shoes.hd5/assets\n"
     ]
    },
    {
     "name": "stderr",
     "output_type": "stream",
     "text": [
      "INFO:tensorflow:Assets written to: shoes.hd5/assets\n"
     ]
    },
    {
     "name": "stdout",
     "output_type": "stream",
     "text": [
      "110/110 [==============================] - 201s 2s/step - loss: 0.0475\n",
      "Epoch 5/10\n",
      "110/110 [==============================] - ETA: 0s - loss: 0.0275"
     ]
    },
    {
     "name": "stderr",
     "output_type": "stream",
     "text": [
      "WARNING:absl:Found untraced functions such as _jit_compiled_convolution_op, _jit_compiled_convolution_op, _jit_compiled_convolution_op, _jit_compiled_convolution_op, _jit_compiled_convolution_op while saving (showing 5 of 94). These functions will not be directly callable after loading.\n"
     ]
    },
    {
     "name": "stdout",
     "output_type": "stream",
     "text": [
      "INFO:tensorflow:Assets written to: shoes.hd5/assets\n"
     ]
    },
    {
     "name": "stderr",
     "output_type": "stream",
     "text": [
      "INFO:tensorflow:Assets written to: shoes.hd5/assets\n"
     ]
    },
    {
     "name": "stdout",
     "output_type": "stream",
     "text": [
      "110/110 [==============================] - 198s 2s/step - loss: 0.0275\n",
      "Epoch 6/10\n",
      "110/110 [==============================] - ETA: 0s - loss: 0.0339"
     ]
    },
    {
     "name": "stderr",
     "output_type": "stream",
     "text": [
      "WARNING:absl:Found untraced functions such as _jit_compiled_convolution_op, _jit_compiled_convolution_op, _jit_compiled_convolution_op, _jit_compiled_convolution_op, _jit_compiled_convolution_op while saving (showing 5 of 94). These functions will not be directly callable after loading.\n"
     ]
    },
    {
     "name": "stdout",
     "output_type": "stream",
     "text": [
      "INFO:tensorflow:Assets written to: shoes.hd5/assets\n"
     ]
    },
    {
     "name": "stderr",
     "output_type": "stream",
     "text": [
      "INFO:tensorflow:Assets written to: shoes.hd5/assets\n"
     ]
    },
    {
     "name": "stdout",
     "output_type": "stream",
     "text": [
      "110/110 [==============================] - 200s 2s/step - loss: 0.0339\n",
      "Epoch 7/10\n",
      "110/110 [==============================] - ETA: 0s - loss: 0.0235"
     ]
    },
    {
     "name": "stderr",
     "output_type": "stream",
     "text": [
      "WARNING:absl:Found untraced functions such as _jit_compiled_convolution_op, _jit_compiled_convolution_op, _jit_compiled_convolution_op, _jit_compiled_convolution_op, _jit_compiled_convolution_op while saving (showing 5 of 94). These functions will not be directly callable after loading.\n"
     ]
    },
    {
     "name": "stdout",
     "output_type": "stream",
     "text": [
      "INFO:tensorflow:Assets written to: shoes.hd5/assets\n"
     ]
    },
    {
     "name": "stderr",
     "output_type": "stream",
     "text": [
      "INFO:tensorflow:Assets written to: shoes.hd5/assets\n"
     ]
    },
    {
     "name": "stdout",
     "output_type": "stream",
     "text": [
      "110/110 [==============================] - 199s 2s/step - loss: 0.0235\n",
      "Epoch 8/10\n",
      "110/110 [==============================] - ETA: 0s - loss: 0.0195"
     ]
    },
    {
     "name": "stderr",
     "output_type": "stream",
     "text": [
      "WARNING:absl:Found untraced functions such as _jit_compiled_convolution_op, _jit_compiled_convolution_op, _jit_compiled_convolution_op, _jit_compiled_convolution_op, _jit_compiled_convolution_op while saving (showing 5 of 94). These functions will not be directly callable after loading.\n"
     ]
    },
    {
     "name": "stdout",
     "output_type": "stream",
     "text": [
      "INFO:tensorflow:Assets written to: shoes.hd5/assets\n"
     ]
    },
    {
     "name": "stderr",
     "output_type": "stream",
     "text": [
      "INFO:tensorflow:Assets written to: shoes.hd5/assets\n"
     ]
    },
    {
     "name": "stdout",
     "output_type": "stream",
     "text": [
      "110/110 [==============================] - 201s 2s/step - loss: 0.0195\n",
      "Epoch 9/10\n",
      "110/110 [==============================] - ETA: 0s - loss: 0.0184"
     ]
    },
    {
     "name": "stderr",
     "output_type": "stream",
     "text": [
      "WARNING:absl:Found untraced functions such as _jit_compiled_convolution_op, _jit_compiled_convolution_op, _jit_compiled_convolution_op, _jit_compiled_convolution_op, _jit_compiled_convolution_op while saving (showing 5 of 94). These functions will not be directly callable after loading.\n"
     ]
    },
    {
     "name": "stdout",
     "output_type": "stream",
     "text": [
      "INFO:tensorflow:Assets written to: shoes.hd5/assets\n"
     ]
    },
    {
     "name": "stderr",
     "output_type": "stream",
     "text": [
      "INFO:tensorflow:Assets written to: shoes.hd5/assets\n"
     ]
    },
    {
     "name": "stdout",
     "output_type": "stream",
     "text": [
      "110/110 [==============================] - 198s 2s/step - loss: 0.0184\n",
      "Epoch 10/10\n",
      "110/110 [==============================] - ETA: 0s - loss: 0.0271"
     ]
    },
    {
     "name": "stderr",
     "output_type": "stream",
     "text": [
      "WARNING:absl:Found untraced functions such as _jit_compiled_convolution_op, _jit_compiled_convolution_op, _jit_compiled_convolution_op, _jit_compiled_convolution_op, _jit_compiled_convolution_op while saving (showing 5 of 94). These functions will not be directly callable after loading.\n"
     ]
    },
    {
     "name": "stdout",
     "output_type": "stream",
     "text": [
      "INFO:tensorflow:Assets written to: shoes.hd5/assets\n"
     ]
    },
    {
     "name": "stderr",
     "output_type": "stream",
     "text": [
      "INFO:tensorflow:Assets written to: shoes.hd5/assets\n"
     ]
    },
    {
     "name": "stdout",
     "output_type": "stream",
     "text": [
      "\b\b\b\b\b\b\b\b\b\b\b\b\b\b\b\b\b\b\b\b\b\b\b\b\b\b\b\b\b\b\b\b\b\b\b\b\b\b\b\b\b\b\b\b\b\b\b\b\b\b\b\b\b\b\b\b\b\b\b\b\b\b\b\b\b\r",
      "110/110 [==============================] - 205s 2s/step - loss: 0.0271\n"
     ]
    },
    {
     "name": "stderr",
     "output_type": "stream",
     "text": [
      "/home/rik/.local/lib/python3.8/site-packages/keras/optimizers/optimizer_v2/gradient_descent.py:111: UserWarning: The `lr` argument is deprecated, use `learning_rate` instead.\n",
      "  super().__init__(name, **kwargs)\n",
      "/tmp/ipykernel_32645/3691090310.py:64: UserWarning: `Model.fit_generator` is deprecated and will be removed in a future version. Please use `Model.fit`, which supports generators.\n",
      "  model.fit_generator(train_generator, steps_per_epoch=steps, epochs = num_epochs, callbacks = [checkpoint], validation_data=validation_generator, validation_steps=50)\n"
     ]
    },
    {
     "name": "stdout",
     "output_type": "stream",
     "text": [
      "Epoch 1/10\n",
      "110/110 [==============================] - ETA: 0s - loss: 0.1277WARNING:tensorflow:Your input ran out of data; interrupting training. Make sure that your dataset or generator can generate at least `steps_per_epoch * epochs` batches (in this case, 50 batches). You may need to use the repeat() function when building your dataset.\n"
     ]
    },
    {
     "name": "stderr",
     "output_type": "stream",
     "text": [
      "WARNING:tensorflow:Your input ran out of data; interrupting training. Make sure that your dataset or generator can generate at least `steps_per_epoch * epochs` batches (in this case, 50 batches). You may need to use the repeat() function when building your dataset.\n",
      "WARNING:absl:Found untraced functions such as _jit_compiled_convolution_op, _jit_compiled_convolution_op, _jit_compiled_convolution_op, _jit_compiled_convolution_op, _jit_compiled_convolution_op while saving (showing 5 of 94). These functions will not be directly callable after loading.\n"
     ]
    },
    {
     "name": "stdout",
     "output_type": "stream",
     "text": [
      "INFO:tensorflow:Assets written to: shoes.hd5/assets\n"
     ]
    },
    {
     "name": "stderr",
     "output_type": "stream",
     "text": [
      "INFO:tensorflow:Assets written to: shoes.hd5/assets\n"
     ]
    },
    {
     "name": "stdout",
     "output_type": "stream",
     "text": [
      "110/110 [==============================] - 298s 3s/step - loss: 0.1277 - val_loss: 0.0125\n",
      "Epoch 2/10\n",
      "110/110 [==============================] - ETA: 0s - loss: 0.0931"
     ]
    },
    {
     "name": "stderr",
     "output_type": "stream",
     "text": [
      "WARNING:absl:Found untraced functions such as _jit_compiled_convolution_op, _jit_compiled_convolution_op, _jit_compiled_convolution_op, _jit_compiled_convolution_op, _jit_compiled_convolution_op while saving (showing 5 of 94). These functions will not be directly callable after loading.\n"
     ]
    },
    {
     "name": "stdout",
     "output_type": "stream",
     "text": [
      "INFO:tensorflow:Assets written to: shoes.hd5/assets\n"
     ]
    },
    {
     "name": "stderr",
     "output_type": "stream",
     "text": [
      "INFO:tensorflow:Assets written to: shoes.hd5/assets\n"
     ]
    },
    {
     "name": "stdout",
     "output_type": "stream",
     "text": [
      "110/110 [==============================] - 260s 2s/step - loss: 0.0931\n",
      "Epoch 3/10\n",
      "110/110 [==============================] - ETA: 0s - loss: 0.0727"
     ]
    },
    {
     "name": "stderr",
     "output_type": "stream",
     "text": [
      "WARNING:absl:Found untraced functions such as _jit_compiled_convolution_op, _jit_compiled_convolution_op, _jit_compiled_convolution_op, _jit_compiled_convolution_op, _jit_compiled_convolution_op while saving (showing 5 of 94). These functions will not be directly callable after loading.\n"
     ]
    },
    {
     "name": "stdout",
     "output_type": "stream",
     "text": [
      "INFO:tensorflow:Assets written to: shoes.hd5/assets\n"
     ]
    },
    {
     "name": "stderr",
     "output_type": "stream",
     "text": [
      "INFO:tensorflow:Assets written to: shoes.hd5/assets\n"
     ]
    },
    {
     "name": "stdout",
     "output_type": "stream",
     "text": [
      "110/110 [==============================] - 255s 2s/step - loss: 0.0727\n",
      "Epoch 4/10\n",
      "110/110 [==============================] - ETA: 0s - loss: 0.0675"
     ]
    },
    {
     "name": "stderr",
     "output_type": "stream",
     "text": [
      "WARNING:absl:Found untraced functions such as _jit_compiled_convolution_op, _jit_compiled_convolution_op, _jit_compiled_convolution_op, _jit_compiled_convolution_op, _jit_compiled_convolution_op while saving (showing 5 of 94). These functions will not be directly callable after loading.\n"
     ]
    },
    {
     "name": "stdout",
     "output_type": "stream",
     "text": [
      "INFO:tensorflow:Assets written to: shoes.hd5/assets\n"
     ]
    },
    {
     "name": "stderr",
     "output_type": "stream",
     "text": [
      "INFO:tensorflow:Assets written to: shoes.hd5/assets\n"
     ]
    },
    {
     "name": "stdout",
     "output_type": "stream",
     "text": [
      "110/110 [==============================] - 257s 2s/step - loss: 0.0675\n",
      "Epoch 5/10\n",
      "110/110 [==============================] - ETA: 0s - loss: 0.0437"
     ]
    },
    {
     "name": "stderr",
     "output_type": "stream",
     "text": [
      "WARNING:absl:Found untraced functions such as _jit_compiled_convolution_op, _jit_compiled_convolution_op, _jit_compiled_convolution_op, _jit_compiled_convolution_op, _jit_compiled_convolution_op while saving (showing 5 of 94). These functions will not be directly callable after loading.\n"
     ]
    },
    {
     "name": "stdout",
     "output_type": "stream",
     "text": [
      "INFO:tensorflow:Assets written to: shoes.hd5/assets\n"
     ]
    },
    {
     "name": "stderr",
     "output_type": "stream",
     "text": [
      "INFO:tensorflow:Assets written to: shoes.hd5/assets\n"
     ]
    },
    {
     "name": "stdout",
     "output_type": "stream",
     "text": [
      "110/110 [==============================] - 257s 2s/step - loss: 0.0437\n",
      "Epoch 6/10\n",
      "110/110 [==============================] - ETA: 0s - loss: 0.0393"
     ]
    },
    {
     "name": "stderr",
     "output_type": "stream",
     "text": [
      "WARNING:absl:Found untraced functions such as _jit_compiled_convolution_op, _jit_compiled_convolution_op, _jit_compiled_convolution_op, _jit_compiled_convolution_op, _jit_compiled_convolution_op while saving (showing 5 of 94). These functions will not be directly callable after loading.\n"
     ]
    },
    {
     "name": "stdout",
     "output_type": "stream",
     "text": [
      "INFO:tensorflow:Assets written to: shoes.hd5/assets\n"
     ]
    },
    {
     "name": "stderr",
     "output_type": "stream",
     "text": [
      "INFO:tensorflow:Assets written to: shoes.hd5/assets\n"
     ]
    },
    {
     "name": "stdout",
     "output_type": "stream",
     "text": [
      "110/110 [==============================] - 255s 2s/step - loss: 0.0393\n",
      "Epoch 7/10\n",
      "110/110 [==============================] - ETA: 0s - loss: 0.0382"
     ]
    },
    {
     "name": "stderr",
     "output_type": "stream",
     "text": [
      "WARNING:absl:Found untraced functions such as _jit_compiled_convolution_op, _jit_compiled_convolution_op, _jit_compiled_convolution_op, _jit_compiled_convolution_op, _jit_compiled_convolution_op while saving (showing 5 of 94). These functions will not be directly callable after loading.\n"
     ]
    },
    {
     "name": "stdout",
     "output_type": "stream",
     "text": [
      "INFO:tensorflow:Assets written to: shoes.hd5/assets\n"
     ]
    },
    {
     "name": "stderr",
     "output_type": "stream",
     "text": [
      "INFO:tensorflow:Assets written to: shoes.hd5/assets\n"
     ]
    },
    {
     "name": "stdout",
     "output_type": "stream",
     "text": [
      "110/110 [==============================] - 258s 2s/step - loss: 0.0382\n",
      "Epoch 8/10\n",
      "110/110 [==============================] - ETA: 0s - loss: 0.0421"
     ]
    },
    {
     "name": "stderr",
     "output_type": "stream",
     "text": [
      "WARNING:absl:Found untraced functions such as _jit_compiled_convolution_op, _jit_compiled_convolution_op, _jit_compiled_convolution_op, _jit_compiled_convolution_op, _jit_compiled_convolution_op while saving (showing 5 of 94). These functions will not be directly callable after loading.\n"
     ]
    },
    {
     "name": "stdout",
     "output_type": "stream",
     "text": [
      "INFO:tensorflow:Assets written to: shoes.hd5/assets\n"
     ]
    },
    {
     "name": "stderr",
     "output_type": "stream",
     "text": [
      "INFO:tensorflow:Assets written to: shoes.hd5/assets\n"
     ]
    },
    {
     "name": "stdout",
     "output_type": "stream",
     "text": [
      "110/110 [==============================] - 255s 2s/step - loss: 0.0421\n",
      "Epoch 9/10\n",
      "110/110 [==============================] - ETA: 0s - loss: 0.0403"
     ]
    },
    {
     "name": "stderr",
     "output_type": "stream",
     "text": [
      "WARNING:absl:Found untraced functions such as _jit_compiled_convolution_op, _jit_compiled_convolution_op, _jit_compiled_convolution_op, _jit_compiled_convolution_op, _jit_compiled_convolution_op while saving (showing 5 of 94). These functions will not be directly callable after loading.\n"
     ]
    },
    {
     "name": "stdout",
     "output_type": "stream",
     "text": [
      "INFO:tensorflow:Assets written to: shoes.hd5/assets\n"
     ]
    },
    {
     "name": "stderr",
     "output_type": "stream",
     "text": [
      "INFO:tensorflow:Assets written to: shoes.hd5/assets\n"
     ]
    },
    {
     "name": "stdout",
     "output_type": "stream",
     "text": [
      "110/110 [==============================] - 257s 2s/step - loss: 0.0403\n",
      "Epoch 10/10\n",
      "110/110 [==============================] - ETA: 0s - loss: 0.0371"
     ]
    },
    {
     "name": "stderr",
     "output_type": "stream",
     "text": [
      "WARNING:absl:Found untraced functions such as _jit_compiled_convolution_op, _jit_compiled_convolution_op, _jit_compiled_convolution_op, _jit_compiled_convolution_op, _jit_compiled_convolution_op while saving (showing 5 of 94). These functions will not be directly callable after loading.\n"
     ]
    },
    {
     "name": "stdout",
     "output_type": "stream",
     "text": [
      "INFO:tensorflow:Assets written to: shoes.hd5/assets\n"
     ]
    },
    {
     "name": "stderr",
     "output_type": "stream",
     "text": [
      "INFO:tensorflow:Assets written to: shoes.hd5/assets\n"
     ]
    },
    {
     "name": "stdout",
     "output_type": "stream",
     "text": [
      "\b\b\b\b\b\b\b\b\b\b\b\b\b\b\b\b\b\b\b\b\b\b\b\b\b\b\b\b\b\b\b\b\b\b\b\b\b\b\b\b\b\b\b\b\b\b\b\b\b\b\b\b\b\b\b\b\b\b\b\b\b\b\b\b\b\r",
      "110/110 [==============================] - 256s 2s/step - loss: 0.0371\n"
     ]
    }
   ],
   "source": [
    "from tensorflow.keras.applications.inception_v3 import InceptionV3\n",
    "from tensorflow.keras.preprocessing import image\n",
    "from tensorflow.keras.models import Model, load_model\n",
    "from tensorflow.keras.callbacks import ModelCheckpoint\n",
    "from tensorflow.keras.layers import Dense, GlobalAveragePooling2D\n",
    "from tensorflow.keras.preprocessing.image import ImageDataGenerator\n",
    "from tensorflow.keras.optimizers import SGD\n",
    "import os.path\n",
    "\n",
    "MODEL_FILE = \"shoes.hd5\"\n",
    "\n",
    "def create_model(num_hidden, num_classes):\n",
    "    base_model = InceptionV3(include_top = False, weights = \"imagenet\")\n",
    "    x = base_model.output\n",
    "    x = GlobalAveragePooling2D()(x)\n",
    "    x = Dense(num_hidden, activation=\"relu\")(x)\n",
    "    predictions = Dense(num_classes, activation=\"softmax\")(x)\n",
    "\n",
    "    for layer in base_model.layers:\n",
    "        layer.trainable = False\n",
    "\n",
    "    model = Model(inputs=base_model.input, outputs=predictions)\n",
    "\n",
    "    return model\n",
    "\n",
    "def load_existing(model_file):\n",
    "    model = load_model(model_file)\n",
    "\n",
    "    numlayers = len(model.layers)\n",
    "\n",
    "    for layer in model.layers[:numlayers-3]:\n",
    "        layer.trainable = False\n",
    "\n",
    "    for layer in model.layers[numlayers-3:]:\n",
    "        layer.trainable = True\n",
    "\n",
    "    return model\n",
    "\n",
    "def train(model_file, train_path, validation_path, num_hidden=200, num_classes=5, steps=32, num_epochs=20):\n",
    "    if os.path.exists(model_file):\n",
    "        print(\"\\nExisting model found at %s. Loading.\\n\\n\" % model_file)\n",
    "        model = load_existing(model_file)\n",
    "    else:\n",
    "        print(\"\\nCreating new model.\\n\\n\")\n",
    "        model = create_model(num_hidden, num_classes)\n",
    "\n",
    "    model.compile(optimizer=\"rmsprop\", loss=\"categorical_crossentropy\")\n",
    "    checkpoint = ModelCheckpoint(model_file)\n",
    "    train_datagen = ImageDataGenerator(rescale=1./255, shear_range=0.2, zoom_range=0.2, horizontal_flip = True)\n",
    "    test_datagen = ImageDataGenerator(rescale=1./255)\n",
    "    \n",
    "    train_generator = train_datagen.flow_from_directory(train_path, target_size=(249,249), batch_size=32, class_mode=\"categorical\")\n",
    "    validation_generator = test_datagen.flow_from_directory(validation_path, target_size=(249,249), batch_size=32, class_mode=\"categorical\")\n",
    "    model.fit_generator(train_generator, steps_per_epoch = steps, epochs = num_epochs, callbacks = [checkpoint], validation_data=validation_generator, validation_steps=50)\n",
    "\n",
    "    for layer in model.layers[:249]:\n",
    "        layer.trainable = False\n",
    "\n",
    "    for layer in model.layers[249:]:\n",
    "        layer.trainable = True\n",
    "\n",
    "    model.compile(optimizer=SGD(lr=0.00001, momentum=0.9), loss=\"categorical_crossentropy\")\n",
    "\n",
    "    model.fit_generator(train_generator, steps_per_epoch=steps, epochs = num_epochs, callbacks = [checkpoint], validation_data=validation_generator, validation_steps=50)\n",
    "\n",
    "# Train the model\n",
    "train_path = base_folder + \"split/train/\"\n",
    "val_path = base_folder + \"split/val/\"\n",
    "amt_classes = sum(os.path.isdir(train_path + f) for f in os.listdir(train_path))\n",
    "\n",
    "train(MODEL_FILE, train_path=train_path, validation_path=val_path, num_classes=amt_classes, steps=110, num_epochs=10)"
   ]
  },
  {
   "cell_type": "code",
   "execution_count": 66,
   "id": "20285b0b",
   "metadata": {},
   "outputs": [
    {
     "name": "stderr",
     "output_type": "stream",
     "text": [
      "/home/rik/.local/lib/python3.8/site-packages/keras/engine/training_v1.py:2356: UserWarning: `Model.state_updates` will be removed in a future version. This property should not be used in TensorFlow 2.0, as `updates` are applied automatically.\n",
      "  updates=self.state_updates,\n"
     ]
    },
    {
     "name": "stdout",
     "output_type": "stream",
     "text": [
      "Predict that shoe_pics/split/test/victor/cropped624.jpg is victor with certainty 0.99618584\n",
      "Predict that shoe_pics/split/test/victor/cropped604.jpg is victor with certainty 0.9995191\n",
      "Predict that shoe_pics/split/test/victor/cropped250.jpg is victor with certainty 0.991886\n",
      "Predict that shoe_pics/split/test/victor/cropped342.jpg is victor with certainty 0.9993205\n",
      "Predict that shoe_pics/split/test/victor/cropped148.jpg is victor with certainty 0.9996438\n",
      "Predict that shoe_pics/split/test/victor/cropped16.jpg is others with certainty 0.8486336\n",
      "Predict that shoe_pics/split/test/victor/cropped67.jpg is victor with certainty 0.99993837\n",
      "Predict that shoe_pics/split/test/victor/cropped404.jpg is victor with certainty 0.9999534\n",
      "Predict that shoe_pics/split/test/victor/cropped654.jpg is victor with certainty 0.9993993\n",
      "Predict that shoe_pics/split/test/victor/cropped656.jpg is victor with certainty 0.999783\n",
      "Predict that shoe_pics/split/test/victor/cropped28.jpg is victor with certainty 0.99909616\n",
      "Predict that shoe_pics/split/test/victor/cropped638.jpg is victor with certainty 0.9999244\n",
      "Predict that shoe_pics/split/test/victor/cropped703.jpg is victor with certainty 0.9947766\n",
      "Predict that shoe_pics/split/test/victor/cropped583.jpg is victor with certainty 0.9999653\n",
      "Predict that shoe_pics/split/test/victor/cropped419.jpg is victor with certainty 0.99997604\n",
      "Predict that shoe_pics/split/test/victor/cropped43.jpg is victor with certainty 0.99875975\n",
      "Predict that shoe_pics/split/test/victor/cropped728.jpg is victor with certainty 0.99957985\n",
      "Predict that shoe_pics/split/test/victor/cropped138.jpg is victor with certainty 0.99979407\n",
      "Predict that shoe_pics/split/test/victor/cropped360.jpg is victor with certainty 0.9999484\n",
      "Predict that shoe_pics/split/test/victor/cropped684.jpg is victor with certainty 0.9989864\n",
      "Predict that shoe_pics/split/test/victor/cropped405.jpg is others with certainty 0.7574037\n",
      "Predict that shoe_pics/split/test/victor/cropped714.jpg is victor with certainty 0.99989915\n",
      "Predict that shoe_pics/split/test/victor/cropped490.jpg is victor with certainty 0.9830707\n",
      "Predict that shoe_pics/split/test/victor/cropped109.jpg is victor with certainty 0.99993336\n",
      "Predict that shoe_pics/split/test/victor/cropped687.jpg is victor with certainty 0.99958235\n",
      "Predict that shoe_pics/split/test/victor/cropped590.jpg is victor with certainty 0.9998115\n",
      "Predict that shoe_pics/split/test/victor/cropped52.jpg is victor with certainty 0.9999975\n",
      "Predict that shoe_pics/split/test/victor/cropped207.jpg is victor with certainty 0.9999931\n",
      "Predict that shoe_pics/split/test/victor/cropped470.jpg is victor with certainty 0.99814796\n",
      "Predict that shoe_pics/split/test/victor/cropped474.jpg is victor with certainty 0.9992988\n",
      "Predict that shoe_pics/split/test/victor/cropped113.jpg is victor with certainty 0.99943596\n",
      "Predict that shoe_pics/split/test/victor/cropped195.jpg is victor with certainty 0.99909854\n",
      "Predict that shoe_pics/split/test/victor/cropped668.jpg is victor with certainty 0.9999361\n",
      "Predict that shoe_pics/split/test/victor/cropped309.jpg is victor with certainty 0.9979825\n",
      "Predict that shoe_pics/split/test/victor/cropped114.jpg is victor with certainty 0.9999467\n",
      "Predict that shoe_pics/split/test/victor/cropped61.jpg is victor with certainty 0.98550177\n",
      "Predict that shoe_pics/split/test/victor/cropped522.jpg is victor with certainty 0.9932808\n",
      "Predict that shoe_pics/split/test/victor/cropped287.jpg is victor with certainty 0.95350486\n",
      "Predict that shoe_pics/split/test/victor/cropped622.jpg is victor with certainty 0.99244326\n",
      "Predict that shoe_pics/split/test/victor/cropped669.jpg is victor with certainty 0.9983291\n",
      "Predict that shoe_pics/split/test/victor/cropped79.jpg is victor with certainty 0.9999757\n",
      "Predict that shoe_pics/split/test/victor/cropped199.jpg is victor with certainty 0.99945885\n",
      "Predict that shoe_pics/split/test/victor/cropped90.jpg is victor with certainty 0.9983286\n",
      "Predict that shoe_pics/split/test/victor/cropped459.jpg is victor with certainty 0.99998343\n",
      "Predict that shoe_pics/split/test/victor/cropped76.jpg is victor with certainty 0.99983716\n",
      "Predict that shoe_pics/split/test/victor/cropped602.jpg is victor with certainty 0.9997507\n",
      "Predict that shoe_pics/split/test/victor/cropped283.jpg is victor with certainty 0.9998828\n",
      "Predict that shoe_pics/split/test/victor/cropped630.jpg is victor with certainty 0.9998354\n",
      "Predict that shoe_pics/split/test/victor/cropped382.jpg is victor with certainty 0.99786806\n",
      "Predict that shoe_pics/split/test/victor/cropped564.jpg is victor with certainty 0.9702331\n",
      "Predict that shoe_pics/split/test/victor/cropped646.jpg is victor with certainty 0.99984276\n",
      "Predict that shoe_pics/split/test/victor/cropped256.jpg is victor with certainty 0.9999862\n",
      "Predict that shoe_pics/split/test/victor/cropped661.jpg is victor with certainty 0.99966455\n",
      "Predict that shoe_pics/split/test/victor/cropped388.jpg is victor with certainty 0.9981651\n",
      "Predict that shoe_pics/split/test/victor/cropped625.jpg is victor with certainty 0.99987817\n",
      "Predict that shoe_pics/split/test/victor/cropped71.jpg is victor with certainty 0.99819785\n",
      "Predict that shoe_pics/split/test/victor/cropped708.jpg is victor with certainty 0.99447083\n",
      "Predict that shoe_pics/split/test/victor/cropped81.jpg is victor with certainty 0.9576136\n",
      "Predict that shoe_pics/split/test/victor/cropped97.jpg is victor with certainty 0.99916255\n",
      "Predict that shoe_pics/split/test/victor/cropped70.jpg is victor with certainty 0.99984956\n",
      "Predict that shoe_pics/split/test/victor/cropped164.jpg is victor with certainty 0.99850154\n",
      "Predict that shoe_pics/split/test/victor/cropped497.jpg is victor with certainty 0.99991274\n",
      "Predict that shoe_pics/split/test/victor/cropped158.jpg is victor with certainty 0.9996394\n",
      "Predict that shoe_pics/split/test/victor/cropped694.jpg is victor with certainty 0.9989624\n",
      "Predict that shoe_pics/split/test/victor/cropped724.jpg is victor with certainty 0.9895242\n",
      "Predict that shoe_pics/split/test/victor/cropped14.jpg is victor with certainty 0.9978873\n",
      "Predict that shoe_pics/split/test/victor/cropped466.jpg is victor with certainty 0.9998628\n",
      "Predict that shoe_pics/split/test/victor/cropped515.jpg is victor with certainty 0.99954706\n",
      "Predict that shoe_pics/split/test/victor/cropped385.jpg is victor with certainty 0.99987376\n",
      "Predict that shoe_pics/split/test/victor/cropped423.jpg is victor with certainty 0.9985696\n",
      "Predict that shoe_pics/split/test/victor/cropped435.jpg is victor with certainty 0.9241089\n",
      "Predict that shoe_pics/split/test/victor/cropped451.jpg is others with certainty 0.7327436\n",
      "Predict that shoe_pics/split/test/victor/cropped709.jpg is victor with certainty 0.9998944\n",
      "Predict that shoe_pics/split/test/victor/cropped325.jpg is victor with certainty 0.9986817\n",
      "Predict that shoe_pics/split/test/victor/cropped434.jpg is victor with certainty 0.88578975\n",
      "Predict that shoe_pics/split/test/rik/cropped364.jpg is rik with certainty 0.99023205\n",
      "Predict that shoe_pics/split/test/rik/cropped1052.jpg is rik with certainty 0.99941456\n",
      "Predict that shoe_pics/split/test/rik/cropped316.jpg is rik with certainty 0.99230546\n",
      "Predict that shoe_pics/split/test/rik/cropped950.jpg is rik with certainty 0.9999403\n",
      "Predict that shoe_pics/split/test/rik/cropped1097.jpg is rik with certainty 0.96644294\n",
      "Predict that shoe_pics/split/test/rik/cropped732.jpg is rik with certainty 0.9934895\n",
      "Predict that shoe_pics/split/test/rik/cropped867.jpg is rik with certainty 0.9972281\n",
      "Predict that shoe_pics/split/test/rik/cropped202.jpg is rik with certainty 0.9990048\n",
      "Predict that shoe_pics/split/test/rik/cropped1360.jpg is rik with certainty 0.99905807\n",
      "Predict that shoe_pics/split/test/rik/cropped533.jpg is rik with certainty 0.983373\n",
      "Predict that shoe_pics/split/test/rik/cropped1274.jpg is rik with certainty 0.99993515\n",
      "Predict that shoe_pics/split/test/rik/cropped362.jpg is rik with certainty 0.9802832\n",
      "Predict that shoe_pics/split/test/rik/cropped327.jpg is rik with certainty 0.99963224\n",
      "Predict that shoe_pics/split/test/rik/cropped136.jpg is rik with certainty 0.99998474\n",
      "Predict that shoe_pics/split/test/rik/cropped1123.jpg is rik with certainty 0.9997321\n",
      "Predict that shoe_pics/split/test/rik/cropped1120.jpg is rik with certainty 0.9999956\n",
      "Predict that shoe_pics/split/test/rik/cropped234.jpg is rik with certainty 0.9761003\n",
      "Predict that shoe_pics/split/test/rik/cropped40.jpg is rik with certainty 0.9942035\n"
     ]
    },
    {
     "name": "stdout",
     "output_type": "stream",
     "text": [
      "Predict that shoe_pics/split/test/rik/cropped1302.jpg is rik with certainty 0.99986684\n",
      "Predict that shoe_pics/split/test/rik/cropped845.jpg is rik with certainty 0.99991417\n",
      "Predict that shoe_pics/split/test/rik/cropped39.jpg is rik with certainty 0.99981076\n",
      "Predict that shoe_pics/split/test/rik/cropped331.jpg is rik with certainty 0.9994754\n",
      "Predict that shoe_pics/split/test/rik/cropped583.jpg is rik with certainty 0.9995926\n",
      "Predict that shoe_pics/split/test/rik/cropped456.jpg is rik with certainty 0.98921704\n",
      "Predict that shoe_pics/split/test/rik/cropped142.jpg is rik with certainty 0.9983271\n",
      "Predict that shoe_pics/split/test/rik/cropped857.jpg is rik with certainty 0.9994492\n",
      "Predict that shoe_pics/split/test/rik/cropped681.jpg is rik with certainty 0.99994767\n",
      "Predict that shoe_pics/split/test/rik/cropped399.jpg is rik with certainty 0.99975604\n",
      "Predict that shoe_pics/split/test/rik/cropped4.jpg is rik with certainty 0.99998224\n",
      "Predict that shoe_pics/split/test/rik/cropped991.jpg is rik with certainty 0.99970824\n",
      "Predict that shoe_pics/split/test/rik/cropped861.jpg is rik with certainty 0.9972012\n",
      "Predict that shoe_pics/split/test/rik/cropped1090.jpg is rik with certainty 0.9994832\n",
      "Predict that shoe_pics/split/test/rik/cropped1076.jpg is rik with certainty 0.9993451\n",
      "Predict that shoe_pics/split/test/rik/cropped745.jpg is rik with certainty 0.99980956\n",
      "Predict that shoe_pics/split/test/rik/cropped926.jpg is rik with certainty 0.9991015\n",
      "Predict that shoe_pics/split/test/rik/cropped471.jpg is rik with certainty 0.9995552\n",
      "Predict that shoe_pics/split/test/rik/cropped540.jpg is rik with certainty 0.9996158\n",
      "Predict that shoe_pics/split/test/rik/cropped889.jpg is rik with certainty 0.97160214\n",
      "Predict that shoe_pics/split/test/rik/cropped1310.jpg is rik with certainty 0.9983889\n",
      "Predict that shoe_pics/split/test/rik/cropped1078.jpg is rik with certainty 0.9998989\n",
      "Predict that shoe_pics/split/test/rik/cropped771.jpg is rik with certainty 0.95832634\n",
      "Predict that shoe_pics/split/test/rik/cropped214.jpg is rik with certainty 0.9991032\n",
      "Predict that shoe_pics/split/test/rik/cropped1338.jpg is rik with certainty 0.9998142\n",
      "Predict that shoe_pics/split/test/rik/cropped231.jpg is rik with certainty 0.9996172\n",
      "Predict that shoe_pics/split/test/rik/cropped110.jpg is rik with certainty 0.9993973\n",
      "Predict that shoe_pics/split/test/rik/cropped170.jpg is rik with certainty 0.99887806\n",
      "Predict that shoe_pics/split/test/rik/cropped470.jpg is rik with certainty 0.99973696\n",
      "Predict that shoe_pics/split/test/rik/cropped102.jpg is rik with certainty 0.99854267\n",
      "Predict that shoe_pics/split/test/rik/cropped1199.jpg is rik with certainty 0.9808313\n",
      "Predict that shoe_pics/split/test/rik/cropped1190.jpg is rik with certainty 0.999987\n",
      "Predict that shoe_pics/split/test/rik/cropped113.jpg is rik with certainty 0.9995322\n",
      "Predict that shoe_pics/split/test/rik/cropped798.jpg is rik with certainty 0.9505451\n",
      "Predict that shoe_pics/split/test/rik/cropped1117.jpg is rik with certainty 0.9983292\n",
      "Predict that shoe_pics/split/test/rik/cropped799.jpg is rik with certainty 0.9999378\n",
      "Predict that shoe_pics/split/test/rik/cropped1029.jpg is rik with certainty 0.98227787\n",
      "Predict that shoe_pics/split/test/rik/cropped1375.jpg is rik with certainty 0.99713683\n",
      "Predict that shoe_pics/split/test/rik/cropped803.jpg is rik with certainty 0.99806017\n",
      "Predict that shoe_pics/split/test/rik/cropped546.jpg is rik with certainty 0.9995004\n",
      "Predict that shoe_pics/split/test/rik/cropped315.jpg is rik with certainty 0.99732083\n",
      "Predict that shoe_pics/split/test/rik/cropped92.jpg is rik with certainty 0.9993388\n",
      "Predict that shoe_pics/split/test/rik/cropped519.jpg is rik with certainty 0.99844664\n",
      "Predict that shoe_pics/split/test/rik/cropped328.jpg is rik with certainty 0.99960595\n",
      "Predict that shoe_pics/split/test/rik/cropped6.jpg is rik with certainty 0.9993962\n",
      "Predict that shoe_pics/split/test/rik/cropped279.jpg is rik with certainty 0.99819595\n",
      "Predict that shoe_pics/split/test/rik/cropped941.jpg is rik with certainty 0.9997454\n",
      "Predict that shoe_pics/split/test/rik/cropped829.jpg is rik with certainty 0.9580892\n",
      "Predict that shoe_pics/split/test/rik/cropped1042.jpg is rik with certainty 0.9914546\n",
      "Predict that shoe_pics/split/test/rik/cropped875.jpg is rik with certainty 0.9967277\n",
      "Predict that shoe_pics/split/test/rik/cropped718.jpg is rik with certainty 0.99564844\n",
      "Predict that shoe_pics/split/test/rik/cropped493.jpg is rik with certainty 0.9757116\n",
      "Predict that shoe_pics/split/test/rik/cropped648.jpg is rik with certainty 0.999723\n",
      "Predict that shoe_pics/split/test/rik/cropped1238.jpg is rik with certainty 0.99128073\n",
      "Predict that shoe_pics/split/test/rik/cropped541.jpg is rik with certainty 0.99983084\n",
      "Predict that shoe_pics/split/test/rik/cropped1141.jpg is rik with certainty 0.9998491\n",
      "Predict that shoe_pics/split/test/rik/cropped779.jpg is rik with certainty 0.99982387\n",
      "Predict that shoe_pics/split/test/rik/cropped274.jpg is rik with certainty 0.9993857\n",
      "Predict that shoe_pics/split/test/rik/cropped411.jpg is rik with certainty 0.99955636\n",
      "Predict that shoe_pics/split/test/rik/cropped1081.jpg is rik with certainty 0.9610429\n",
      "Predict that shoe_pics/split/test/rik/cropped892.jpg is rik with certainty 0.99696356\n",
      "Predict that shoe_pics/split/test/rik/cropped1368.jpg is rik with certainty 0.999907\n",
      "Predict that shoe_pics/split/test/rik/cropped450.jpg is rik with certainty 0.9972825\n",
      "Predict that shoe_pics/split/test/rik/cropped910.jpg is rik with certainty 0.99983823\n",
      "Predict that shoe_pics/split/test/rik/cropped661.jpg is rik with certainty 0.9982963\n",
      "Predict that shoe_pics/split/test/rik/cropped1312.jpg is rik with certainty 0.9993137\n",
      "Predict that shoe_pics/split/test/rik/cropped421.jpg is rik with certainty 0.99999213\n",
      "Predict that shoe_pics/split/test/rik/cropped215.jpg is rik with certainty 0.99995697\n",
      "Predict that shoe_pics/split/test/rik/cropped393.jpg is rik with certainty 0.999936\n",
      "Predict that shoe_pics/split/test/rik/cropped1248.jpg is rik with certainty 0.99714357\n",
      "Predict that shoe_pics/split/test/rik/cropped801.jpg is rik with certainty 0.99990916\n",
      "Predict that shoe_pics/split/test/rik/cropped484.jpg is rik with certainty 0.99992955\n",
      "Predict that shoe_pics/split/test/rik/cropped112.jpg is rik with certainty 0.9007576\n",
      "Predict that shoe_pics/split/test/rik/cropped711.jpg is rik with certainty 0.9999752\n",
      "Predict that shoe_pics/split/test/rik/cropped473.jpg is rik with certainty 0.97018987\n",
      "Predict that shoe_pics/split/test/rik/cropped390.jpg is rik with certainty 0.99999666\n",
      "Predict that shoe_pics/split/test/rik/cropped934.jpg is rik with certainty 0.9999211\n",
      "Predict that shoe_pics/split/test/rik/cropped749.jpg is rik with certainty 0.99917185\n",
      "Predict that shoe_pics/split/test/rik/cropped813.jpg is rik with certainty 0.9998969\n",
      "Predict that shoe_pics/split/test/rik/cropped723.jpg is rik with certainty 0.99902487\n",
      "Predict that shoe_pics/split/test/rik/cropped72.jpg is rik with certainty 0.99992716\n",
      "Predict that shoe_pics/split/test/rik/cropped88.jpg is rik with certainty 0.9978314\n",
      "Predict that shoe_pics/split/test/rik/cropped222.jpg is rik with certainty 0.88299596\n",
      "Predict that shoe_pics/split/test/rik/cropped877.jpg is rik with certainty 0.99658465\n",
      "Predict that shoe_pics/split/test/rik/cropped1350.jpg is rik with certainty 0.96234244\n",
      "Predict that shoe_pics/split/test/rik/cropped1105.jpg is rik with certainty 0.9985089\n",
      "Predict that shoe_pics/split/test/rik/cropped953.jpg is rik with certainty 0.9994074\n",
      "Predict that shoe_pics/split/test/rik/cropped890.jpg is rik with certainty 0.99955267\n",
      "Predict that shoe_pics/split/test/rik/cropped973.jpg is rik with certainty 0.99994147\n",
      "Predict that shoe_pics/split/test/rik/cropped1356.jpg is rik with certainty 0.9980414\n",
      "Predict that shoe_pics/split/test/rik/cropped979.jpg is rik with certainty 0.99016553\n",
      "Predict that shoe_pics/split/test/rik/cropped1292.jpg is rik with certainty 0.9984882\n",
      "Predict that shoe_pics/split/test/rik/cropped1330.jpg is rik with certainty 0.99648404\n",
      "Predict that shoe_pics/split/test/rik/cropped103.jpg is rik with certainty 0.969822\n",
      "Predict that shoe_pics/split/test/rik/cropped773.jpg is rik with certainty 0.9960905\n",
      "Predict that shoe_pics/split/test/rik/cropped536.jpg is rik with certainty 0.9981352\n"
     ]
    },
    {
     "name": "stdout",
     "output_type": "stream",
     "text": [
      "Predict that shoe_pics/split/test/rik/cropped613.jpg is rik with certainty 0.9947758\n",
      "Predict that shoe_pics/split/test/rik/cropped107.jpg is rik with certainty 0.9519898\n",
      "Predict that shoe_pics/split/test/rik/cropped983.jpg is rik with certainty 0.99868196\n",
      "Predict that shoe_pics/split/test/rik/cropped1096.jpg is rik with certainty 0.9999734\n",
      "Predict that shoe_pics/split/test/rik/cropped341.jpg is rik with certainty 0.99912256\n",
      "Predict that shoe_pics/split/test/rik/cropped157.jpg is rik with certainty 0.99918944\n",
      "Predict that shoe_pics/split/test/rik/cropped769.jpg is rik with certainty 0.99966705\n",
      "Predict that shoe_pics/split/test/rik/cropped825.jpg is rik with certainty 0.999985\n",
      "Predict that shoe_pics/split/test/rik/cropped724.jpg is rik with certainty 0.9982014\n",
      "Predict that shoe_pics/split/test/rik/cropped50.jpg is rik with certainty 0.99311876\n",
      "Predict that shoe_pics/split/test/rik/cropped762.jpg is rik with certainty 0.99854136\n",
      "Predict that shoe_pics/split/test/rik/cropped864.jpg is rik with certainty 0.9930536\n",
      "Predict that shoe_pics/split/test/rik/cropped599.jpg is rik with certainty 0.983216\n",
      "Predict that shoe_pics/split/test/rik/cropped96.jpg is rik with certainty 0.9947325\n",
      "Predict that shoe_pics/split/test/rik/cropped641.jpg is rik with certainty 0.999985\n",
      "Predict that shoe_pics/split/test/rik/cropped759.jpg is rik with certainty 0.77139163\n",
      "Predict that shoe_pics/split/test/rik/cropped592.jpg is rik with certainty 0.9979826\n",
      "Predict that shoe_pics/split/test/rik/cropped1215.jpg is rik with certainty 0.99936074\n",
      "Predict that shoe_pics/split/test/rik/cropped423.jpg is rik with certainty 0.97442496\n",
      "Predict that shoe_pics/split/test/rik/cropped1290.jpg is rik with certainty 0.9997162\n",
      "Predict that shoe_pics/split/test/rik/cropped321.jpg is rik with certainty 0.993808\n",
      "Predict that shoe_pics/split/test/rik/cropped1284.jpg is rik with certainty 0.9994123\n",
      "Predict that shoe_pics/split/test/rik/cropped56.jpg is rik with certainty 0.9994715\n",
      "Predict that shoe_pics/split/test/rik/cropped237.jpg is rik with certainty 0.99989223\n",
      "Predict that shoe_pics/split/test/rik/cropped1381.jpg is rik with certainty 0.9987198\n",
      "Predict that shoe_pics/split/test/rik/cropped589.jpg is rik with certainty 0.99758613\n",
      "Predict that shoe_pics/split/test/tariq/cropped365.jpg is tariq with certainty 0.8365494\n",
      "Predict that shoe_pics/split/test/tariq/cropped807.jpg is tariq with certainty 0.9996859\n",
      "Predict that shoe_pics/split/test/tariq/cropped431.jpg is tariq with certainty 0.97322625\n",
      "Predict that shoe_pics/split/test/tariq/cropped188.jpg is tariq with certainty 0.99957997\n",
      "Predict that shoe_pics/split/test/tariq/cropped604.jpg is tariq with certainty 0.9925943\n",
      "Predict that shoe_pics/split/test/tariq/cropped700.jpg is tariq with certainty 0.9999919\n",
      "Predict that shoe_pics/split/test/tariq/cropped950.jpg is tariq with certainty 0.99999917\n",
      "Predict that shoe_pics/split/test/tariq/cropped793.jpg is tariq with certainty 0.99995315\n",
      "Predict that shoe_pics/split/test/tariq/cropped732.jpg is tariq with certainty 0.9999889\n",
      "Predict that shoe_pics/split/test/tariq/cropped386.jpg is tariq with certainty 0.9984505\n",
      "Predict that shoe_pics/split/test/tariq/cropped340.jpg is tariq with certainty 0.9999614\n",
      "Predict that shoe_pics/split/test/tariq/cropped814.jpg is tariq with certainty 0.99997437\n",
      "Predict that shoe_pics/split/test/tariq/cropped610.jpg is tariq with certainty 0.9998932\n",
      "Predict that shoe_pics/split/test/tariq/cropped477.jpg is tariq with certainty 0.9985928\n",
      "Predict that shoe_pics/split/test/tariq/cropped649.jpg is tariq with certainty 0.9999988\n",
      "Predict that shoe_pics/split/test/tariq/cropped1012.jpg is tariq with certainty 0.9999976\n",
      "Predict that shoe_pics/split/test/tariq/cropped846.jpg is tariq with certainty 0.99986196\n",
      "Predict that shoe_pics/split/test/tariq/cropped403.jpg is tariq with certainty 0.9999752\n",
      "Predict that shoe_pics/split/test/tariq/cropped362.jpg is tariq with certainty 0.9999436\n",
      "Predict that shoe_pics/split/test/tariq/cropped720.jpg is tariq with certainty 0.999995\n",
      "Predict that shoe_pics/split/test/tariq/cropped816.jpg is tariq with certainty 0.9999838\n",
      "Predict that shoe_pics/split/test/tariq/cropped41.jpg is tariq with certainty 0.99996483\n",
      "Predict that shoe_pics/split/test/tariq/cropped91.jpg is tariq with certainty 1.0\n",
      "Predict that shoe_pics/split/test/tariq/cropped563.jpg is tariq with certainty 0.99956137\n",
      "Predict that shoe_pics/split/test/tariq/cropped544.jpg is tariq with certainty 0.99998367\n",
      "Predict that shoe_pics/split/test/tariq/cropped583.jpg is tariq with certainty 0.9997969\n",
      "Predict that shoe_pics/split/test/tariq/cropped987.jpg is tariq with certainty 0.9994949\n",
      "Predict that shoe_pics/split/test/tariq/cropped138.jpg is tariq with certainty 0.9999461\n",
      "Predict that shoe_pics/split/test/tariq/cropped4.jpg is tariq with certainty 0.9999993\n",
      "Predict that shoe_pics/split/test/tariq/cropped722.jpg is tariq with certainty 0.9996265\n",
      "Predict that shoe_pics/split/test/tariq/cropped684.jpg is tariq with certainty 0.99988806\n",
      "Predict that shoe_pics/split/test/tariq/cropped811.jpg is tariq with certainty 0.9999981\n",
      "Predict that shoe_pics/split/test/tariq/cropped322.jpg is tariq with certainty 0.99995375\n",
      "Predict that shoe_pics/split/test/tariq/cropped439.jpg is tariq with certainty 0.9995493\n",
      "Predict that shoe_pics/split/test/tariq/cropped585.jpg is tariq with certainty 0.9998294\n",
      "Predict that shoe_pics/split/test/tariq/cropped908.jpg is tariq with certainty 0.9998995\n",
      "Predict that shoe_pics/split/test/tariq/cropped470.jpg is tariq with certainty 0.99446905\n",
      "Predict that shoe_pics/split/test/tariq/cropped496.jpg is tariq with certainty 0.9999876\n",
      "Predict that shoe_pics/split/test/tariq/cropped753.jpg is tariq with certainty 0.999524\n",
      "Predict that shoe_pics/split/test/tariq/cropped839.jpg is tariq with certainty 0.9999944\n",
      "Predict that shoe_pics/split/test/tariq/cropped368.jpg is tariq with certainty 0.9999869\n",
      "Predict that shoe_pics/split/test/tariq/cropped928.jpg is tariq with certainty 0.99992204\n",
      "Predict that shoe_pics/split/test/tariq/cropped77.jpg is tariq with certainty 0.9999559\n",
      "Predict that shoe_pics/split/test/tariq/cropped715.jpg is tariq with certainty 0.9950117\n",
      "Predict that shoe_pics/split/test/tariq/cropped92.jpg is tariq with certainty 0.9801926\n",
      "Predict that shoe_pics/split/test/tariq/cropped144.jpg is tariq with certainty 0.99964714\n",
      "Predict that shoe_pics/split/test/tariq/cropped415.jpg is tariq with certainty 0.9994549\n",
      "Predict that shoe_pics/split/test/tariq/cropped964.jpg is tariq with certainty 0.99951375\n",
      "Predict that shoe_pics/split/test/tariq/cropped626.jpg is tariq with certainty 0.99995005\n",
      "Predict that shoe_pics/split/test/tariq/cropped454.jpg is tariq with certainty 0.9935822\n",
      "Predict that shoe_pics/split/test/tariq/cropped605.jpg is tariq with certainty 0.9999974\n",
      "Predict that shoe_pics/split/test/tariq/cropped618.jpg is tariq with certainty 0.99776995\n",
      "Predict that shoe_pics/split/test/tariq/cropped664.jpg is tariq with certainty 0.9999939\n",
      "Predict that shoe_pics/split/test/tariq/cropped29.jpg is tariq with certainty 0.986973\n",
      "Predict that shoe_pics/split/test/tariq/cropped634.jpg is tariq with certainty 0.9999974\n",
      "Predict that shoe_pics/split/test/tariq/cropped263.jpg is tariq with certainty 0.9998216\n",
      "Predict that shoe_pics/split/test/tariq/cropped875.jpg is tariq with certainty 0.9995189\n",
      "Predict that shoe_pics/split/test/tariq/cropped602.jpg is tariq with certainty 0.9999951\n",
      "Predict that shoe_pics/split/test/tariq/cropped648.jpg is tariq with certainty 0.998722\n",
      "Predict that shoe_pics/split/test/tariq/cropped128.jpg is tariq with certainty 0.99999857\n",
      "Predict that shoe_pics/split/test/tariq/cropped835.jpg is tariq with certainty 0.99999213\n",
      "Predict that shoe_pics/split/test/tariq/cropped236.jpg is tariq with certainty 0.9999598\n",
      "Predict that shoe_pics/split/test/tariq/cropped26.jpg is tariq with certainty 0.9999027\n",
      "Predict that shoe_pics/split/test/tariq/cropped450.jpg is tariq with certainty 0.99999976\n",
      "Predict that shoe_pics/split/test/tariq/cropped175.jpg is tariq with certainty 0.99849474\n",
      "Predict that shoe_pics/split/test/tariq/cropped680.jpg is tariq with certainty 0.9999975\n",
      "Predict that shoe_pics/split/test/tariq/cropped267.jpg is tariq with certainty 0.99999845\n",
      "Predict that shoe_pics/split/test/tariq/cropped414.jpg is tariq with certainty 0.9999976\n",
      "Predict that shoe_pics/split/test/tariq/cropped1008.jpg is tariq with certainty 0.9999974\n"
     ]
    },
    {
     "name": "stdout",
     "output_type": "stream",
     "text": [
      "Predict that shoe_pics/split/test/tariq/cropped898.jpg is tariq with certainty 0.99998116\n",
      "Predict that shoe_pics/split/test/tariq/cropped65.jpg is tariq with certainty 0.99999964\n",
      "Predict that shoe_pics/split/test/tariq/cropped792.jpg is tariq with certainty 0.99997485\n",
      "Predict that shoe_pics/split/test/tariq/cropped780.jpg is tariq with certainty 0.9962465\n",
      "Predict that shoe_pics/split/test/tariq/cropped636.jpg is tariq with certainty 0.99999905\n",
      "Predict that shoe_pics/split/test/tariq/cropped12.jpg is tariq with certainty 0.99998593\n",
      "Predict that shoe_pics/split/test/tariq/cropped984.jpg is tariq with certainty 0.99986637\n",
      "Predict that shoe_pics/split/test/tariq/cropped570.jpg is tariq with certainty 0.9999993\n",
      "Predict that shoe_pics/split/test/tariq/cropped667.jpg is tariq with certainty 0.9999999\n",
      "Predict that shoe_pics/split/test/tariq/cropped806.jpg is tariq with certainty 0.99999785\n",
      "Predict that shoe_pics/split/test/tariq/cropped690.jpg is tariq with certainty 0.9988951\n",
      "Predict that shoe_pics/split/test/tariq/cropped972.jpg is tariq with certainty 0.99997735\n",
      "Predict that shoe_pics/split/test/tariq/cropped695.jpg is tariq with certainty 0.9999926\n",
      "Predict that shoe_pics/split/test/tariq/cropped931.jpg is tariq with certainty 0.9999659\n",
      "Predict that shoe_pics/split/test/tariq/cropped230.jpg is tariq with certainty 0.9999087\n",
      "Predict that shoe_pics/split/test/tariq/cropped50.jpg is tariq with certainty 0.9985259\n",
      "Predict that shoe_pics/split/test/tariq/cropped14.jpg is tariq with certainty 0.9999465\n",
      "Predict that shoe_pics/split/test/tariq/cropped118.jpg is tariq with certainty 0.999998\n",
      "Predict that shoe_pics/split/test/tariq/cropped864.jpg is tariq with certainty 0.9998566\n",
      "Predict that shoe_pics/split/test/tariq/cropped949.jpg is tariq with certainty 0.9971079\n",
      "Predict that shoe_pics/split/test/tariq/cropped446.jpg is tariq with certainty 0.9986834\n",
      "Predict that shoe_pics/split/test/tariq/cropped704.jpg is tariq with certainty 0.9999846\n",
      "Predict that shoe_pics/split/test/tariq/cropped945.jpg is tariq with certainty 0.99998915\n",
      "Predict that shoe_pics/split/test/tariq/cropped82.jpg is tariq with certainty 0.999998\n",
      "Predict that shoe_pics/split/test/tariq/cropped641.jpg is tariq with certainty 0.99662906\n",
      "Predict that shoe_pics/split/test/tariq/cropped759.jpg is tariq with certainty 0.9999963\n",
      "Predict that shoe_pics/split/test/tariq/cropped817.jpg is tariq with certainty 0.9997094\n",
      "Predict that shoe_pics/split/test/tariq/cropped305.jpg is tariq with certainty 0.9982564\n",
      "Predict that shoe_pics/split/test/tariq/cropped385.jpg is tariq with certainty 0.99999845\n",
      "Predict that shoe_pics/split/test/tariq/cropped1013.jpg is tariq with certainty 0.99964774\n",
      "Predict that shoe_pics/split/test/tariq/cropped179.jpg is tariq with certainty 0.99996364\n",
      "Predict that shoe_pics/split/test/tariq/cropped923.jpg is tariq with certainty 0.9999558\n",
      "Predict that shoe_pics/split/test/tariq/cropped502.jpg is tariq with certainty 0.999984\n",
      "Predict that shoe_pics/split/test/tariq/cropped922.jpg is tariq with certainty 0.9991953\n",
      "Predict that shoe_pics/split/test/others/cropped3644.jpg is others with certainty 1.0\n",
      "Predict that shoe_pics/split/test/others/cropped3506.jpg is others with certainty 0.99796236\n",
      "Predict that shoe_pics/split/test/others/cropped3507.jpg is others with certainty 0.99999964\n",
      "Predict that shoe_pics/split/test/others/cropped1708.jpg is others with certainty 0.9932461\n",
      "Predict that shoe_pics/split/test/others/cropped3379.jpg is others with certainty 0.99911207\n",
      "Predict that shoe_pics/split/test/others/cropped3101.jpg is others with certainty 0.99013066\n",
      "Predict that shoe_pics/split/test/others/cropped3614.jpg is others with certainty 0.99999964\n",
      "Predict that shoe_pics/split/test/others/cropped624.jpg is others with certainty 1.0\n",
      "Predict that shoe_pics/split/test/others/cropped3967.jpg is others with certainty 1.0\n",
      "Predict that shoe_pics/split/test/others/cropped2131.jpg is others with certainty 0.9998565\n",
      "Predict that shoe_pics/split/test/others/cropped3941.jpg is others with certainty 0.99999857\n",
      "Predict that shoe_pics/split/test/others/cropped1245.jpg is others with certainty 1.0\n",
      "Predict that shoe_pics/split/test/others/cropped3404.jpg is others with certainty 1.0\n",
      "Predict that shoe_pics/split/test/others/cropped342.jpg is others with certainty 1.0\n",
      "Predict that shoe_pics/split/test/others/cropped3350.jpg is others with certainty 0.9999765\n",
      "Predict that shoe_pics/split/test/others/cropped3479.jpg is others with certainty 0.9999112\n",
      "Predict that shoe_pics/split/test/others/cropped3372.jpg is others with certainty 1.0\n",
      "Predict that shoe_pics/split/test/others/cropped3429.jpg is others with certainty 0.9999392\n",
      "Predict that shoe_pics/split/test/others/cropped156.jpg is others with certainty 1.0\n",
      "Predict that shoe_pics/split/test/others/cropped2486.jpg is others with certainty 0.99967694\n",
      "Predict that shoe_pics/split/test/others/cropped2685.jpg is others with certainty 0.9996755\n",
      "Predict that shoe_pics/split/test/others/cropped3444.jpg is others with certainty 1.0\n",
      "Predict that shoe_pics/split/test/others/cropped1297.jpg is others with certainty 1.0\n",
      "Predict that shoe_pics/split/test/others/cropped2949.jpg is others with certainty 0.9967631\n",
      "Predict that shoe_pics/split/test/others/cropped3676.jpg is others with certainty 0.9999734\n",
      "Predict that shoe_pics/split/test/others/cropped2989.jpg is others with certainty 0.9984604\n",
      "Predict that shoe_pics/split/test/others/cropped3056.jpg is others with certainty 0.99997985\n",
      "Predict that shoe_pics/split/test/others/cropped754.jpg is others with certainty 0.9999865\n",
      "Predict that shoe_pics/split/test/others/cropped3770.jpg is others with certainty 1.0\n",
      "Predict that shoe_pics/split/test/others/cropped301.jpg is others with certainty 1.0\n",
      "Predict that shoe_pics/split/test/others/cropped1836.jpg is others with certainty 0.9997305\n",
      "Predict that shoe_pics/split/test/others/cropped863.jpg is others with certainty 0.9998323\n",
      "Predict that shoe_pics/split/test/others/cropped1108.jpg is others with certainty 0.9996985\n",
      "Predict that shoe_pics/split/test/others/cropped3417.jpg is others with certainty 0.99999213\n",
      "Predict that shoe_pics/split/test/others/cropped3592.jpg is others with certainty 1.0\n",
      "Predict that shoe_pics/split/test/others/cropped3944.jpg is others with certainty 0.9954176\n",
      "Predict that shoe_pics/split/test/others/cropped3489.jpg is others with certainty 1.0\n",
      "Predict that shoe_pics/split/test/others/cropped2418.jpg is others with certainty 0.9999057\n",
      "Predict that shoe_pics/split/test/others/cropped2150.jpg is others with certainty 0.9999633\n",
      "Predict that shoe_pics/split/test/others/cropped1286.jpg is others with certainty 0.9999964\n",
      "Predict that shoe_pics/split/test/others/cropped533.jpg is others with certainty 0.99998105\n",
      "Predict that shoe_pics/split/test/others/cropped654.jpg is others with certainty 0.9999987\n",
      "Predict that shoe_pics/split/test/others/cropped1196.jpg is others with certainty 0.9999987\n",
      "Predict that shoe_pics/split/test/others/cropped3035.jpg is others with certainty 0.99997115\n",
      "Predict that shoe_pics/split/test/others/cropped362.jpg is others with certainty 1.0\n",
      "Predict that shoe_pics/split/test/others/cropped2285.jpg is others with certainty 0.9999958\n",
      "Predict that shoe_pics/split/test/others/cropped428.jpg is others with certainty 0.9999987\n",
      "Predict that shoe_pics/split/test/others/cropped27.jpg is others with certainty 1.0\n",
      "Predict that shoe_pics/split/test/others/cropped2207.jpg is others with certainty 0.99984646\n",
      "Predict that shoe_pics/split/test/others/cropped261.jpg is others with certainty 1.0\n",
      "Predict that shoe_pics/split/test/others/cropped785.jpg is others with certainty 0.9999721\n",
      "Predict that shoe_pics/split/test/others/cropped3953.jpg is others with certainty 0.999998\n",
      "Predict that shoe_pics/split/test/others/cropped838.jpg is others with certainty 0.9999931\n",
      "Predict that shoe_pics/split/test/others/cropped2635.jpg is others with certainty 0.9971002\n",
      "Predict that shoe_pics/split/test/others/cropped373.jpg is others with certainty 1.0\n",
      "Predict that shoe_pics/split/test/others/cropped3189.jpg is others with certainty 0.8797679\n",
      "Predict that shoe_pics/split/test/others/cropped3106.jpg is others with certainty 0.9998565\n",
      "Predict that shoe_pics/split/test/others/cropped2862.jpg is others with certainty 0.99883085\n",
      "Predict that shoe_pics/split/test/others/cropped3275.jpg is others with certainty 1.0\n"
     ]
    },
    {
     "name": "stdout",
     "output_type": "stream",
     "text": [
      "Predict that shoe_pics/split/test/others/cropped2782.jpg is others with certainty 0.99949956\n",
      "Predict that shoe_pics/split/test/others/cropped2183.jpg is others with certainty 0.9999993\n",
      "Predict that shoe_pics/split/test/others/cropped2156.jpg is others with certainty 0.9975038\n",
      "Predict that shoe_pics/split/test/others/cropped3251.jpg is others with certainty 1.0\n",
      "Predict that shoe_pics/split/test/others/cropped1624.jpg is others with certainty 0.99996483\n",
      "Predict that shoe_pics/split/test/others/cropped86.jpg is others with certainty 1.0\n",
      "Predict that shoe_pics/split/test/others/cropped11.jpg is others with certainty 1.0\n",
      "Predict that shoe_pics/split/test/others/cropped3931.jpg is others with certainty 0.9990891\n",
      "Predict that shoe_pics/split/test/others/cropped2227.jpg is others with certainty 0.99992454\n",
      "Predict that shoe_pics/split/test/others/cropped1902.jpg is others with certainty 1.0\n",
      "Predict that shoe_pics/split/test/others/cropped3279.jpg is others with certainty 0.99937314\n",
      "Predict that shoe_pics/split/test/others/cropped1705.jpg is others with certainty 1.0\n",
      "Predict that shoe_pics/split/test/others/cropped1703.jpg is others with certainty 0.9999782\n",
      "Predict that shoe_pics/split/test/others/cropped1479.jpg is others with certainty 0.99974436\n",
      "Predict that shoe_pics/split/test/others/cropped2827.jpg is others with certainty 0.84737957\n",
      "Predict that shoe_pics/split/test/others/cropped3290.jpg is others with certainty 1.0\n",
      "Predict that shoe_pics/split/test/others/cropped3643.jpg is others with certainty 1.0\n",
      "Predict that shoe_pics/split/test/others/cropped1974.jpg is others with certainty 0.9999857\n",
      "Predict that shoe_pics/split/test/others/cropped3909.jpg is others with certainty 0.9999722\n",
      "Predict that shoe_pics/split/test/others/cropped845.jpg is others with certainty 0.9999999\n",
      "Predict that shoe_pics/split/test/others/cropped3809.jpg is others with certainty 0.999843\n",
      "Predict that shoe_pics/split/test/others/cropped210.jpg is others with certainty 0.99999595\n",
      "Predict that shoe_pics/split/test/others/cropped1739.jpg is others with certainty 1.0\n",
      "Predict that shoe_pics/split/test/others/cropped544.jpg is others with certainty 0.9999999\n",
      "Predict that shoe_pics/split/test/others/cropped2821.jpg is others with certainty 0.9999845\n",
      "Predict that shoe_pics/split/test/others/cropped2665.jpg is others with certainty 0.9995943\n",
      "Predict that shoe_pics/split/test/others/cropped3501.jpg is others with certainty 0.99997413\n",
      "Predict that shoe_pics/split/test/others/cropped532.jpg is others with certainty 0.9996748\n",
      "Predict that shoe_pics/split/test/others/cropped956.jpg is others with certainty 1.0\n",
      "Predict that shoe_pics/split/test/others/cropped1214.jpg is others with certainty 1.0\n",
      "Predict that shoe_pics/split/test/others/cropped987.jpg is others with certainty 0.99997187\n",
      "Predict that shoe_pics/split/test/others/cropped1827.jpg is others with certainty 1.0\n",
      "Predict that shoe_pics/split/test/others/cropped1159.jpg is others with certainty 0.99999905\n",
      "Predict that shoe_pics/split/test/others/cropped1043.jpg is others with certainty 0.99999917\n",
      "Predict that shoe_pics/split/test/others/cropped795.jpg is others with certainty 1.0\n",
      "Predict that shoe_pics/split/test/others/cropped43.jpg is others with certainty 1.0\n",
      "Predict that shoe_pics/split/test/others/cropped3212.jpg is others with certainty 0.999765\n",
      "Predict that shoe_pics/split/test/others/cropped3374.jpg is others with certainty 0.9999999\n",
      "Predict that shoe_pics/split/test/others/cropped2298.jpg is others with certainty 0.99982196\n",
      "Predict that shoe_pics/split/test/others/cropped990.jpg is others with certainty 0.9999292\n",
      "Predict that shoe_pics/split/test/others/cropped692.jpg is others with certainty 0.9998672\n",
      "Predict that shoe_pics/split/test/others/cropped281.jpg is others with certainty 0.9999989\n",
      "Predict that shoe_pics/split/test/others/cropped3568.jpg is others with certainty 0.99787474\n",
      "Predict that shoe_pics/split/test/others/cropped1166.jpg is others with certainty 0.9913362\n",
      "Predict that shoe_pics/split/test/others/cropped213.jpg is others with certainty 0.9999999\n",
      "Predict that shoe_pics/split/test/others/cropped3460.jpg is others with certainty 1.0\n",
      "Predict that shoe_pics/split/test/others/cropped1946.jpg is others with certainty 1.0\n",
      "Predict that shoe_pics/split/test/others/cropped1586.jpg is others with certainty 0.9999553\n",
      "Predict that shoe_pics/split/test/others/cropped3473.jpg is others with certainty 0.999998\n",
      "Predict that shoe_pics/split/test/others/cropped1930.jpg is others with certainty 1.0\n",
      "Predict that shoe_pics/split/test/others/cropped1629.jpg is others with certainty 1.0\n",
      "Predict that shoe_pics/split/test/others/cropped1287.jpg is others with certainty 1.0\n",
      "Predict that shoe_pics/split/test/others/cropped479.jpg is others with certainty 0.9999558\n",
      "Predict that shoe_pics/split/test/others/cropped1906.jpg is others with certainty 1.0\n",
      "Predict that shoe_pics/split/test/others/cropped640.jpg is others with certainty 1.0\n",
      "Predict that shoe_pics/split/test/others/cropped3386.jpg is others with certainty 0.9999999\n",
      "Predict that shoe_pics/split/test/others/cropped197.jpg is others with certainty 0.9999695\n",
      "Predict that shoe_pics/split/test/others/cropped3913.jpg is others with certainty 1.0\n",
      "Predict that shoe_pics/split/test/others/cropped1247.jpg is others with certainty 1.0\n",
      "Predict that shoe_pics/split/test/others/cropped2442.jpg is others with certainty 0.9999999\n",
      "Predict that shoe_pics/split/test/others/cropped3135.jpg is others with certainty 0.99917716\n",
      "Predict that shoe_pics/split/test/others/cropped3440.jpg is others with certainty 0.9999989\n",
      "Predict that shoe_pics/split/test/others/cropped3366.jpg is others with certainty 0.99999\n",
      "Predict that shoe_pics/split/test/others/cropped3543.jpg is others with certainty 0.9999957\n",
      "Predict that shoe_pics/split/test/others/cropped109.jpg is others with certainty 1.0\n",
      "Predict that shoe_pics/split/test/others/cropped3903.jpg is others with certainty 0.99991524\n",
      "Predict that shoe_pics/split/test/others/cropped655.jpg is others with certainty 0.99999976\n",
      "Predict that shoe_pics/split/test/others/cropped824.jpg is others with certainty 0.9999912\n",
      "Predict that shoe_pics/split/test/others/cropped2224.jpg is others with certainty 0.8746702\n",
      "Predict that shoe_pics/split/test/others/cropped590.jpg is others with certainty 0.99999845\n",
      "Predict that shoe_pics/split/test/others/cropped771.jpg is others with certainty 0.99987936\n",
      "Predict that shoe_pics/split/test/others/cropped125.jpg is others with certainty 0.99999976\n",
      "Predict that shoe_pics/split/test/others/cropped3232.jpg is others with certainty 0.99858356\n",
      "Predict that shoe_pics/split/test/others/cropped1153.jpg is others with certainty 0.9999999\n",
      "Predict that shoe_pics/split/test/others/cropped3136.jpg is others with certainty 0.9999883\n",
      "Predict that shoe_pics/split/test/others/cropped23.jpg is others with certainty 1.0\n",
      "Predict that shoe_pics/split/test/others/cropped2741.jpg is others with certainty 0.99903715\n",
      "Predict that shoe_pics/split/test/others/cropped3209.jpg is others with certainty 1.0\n",
      "Predict that shoe_pics/split/test/others/cropped168.jpg is others with certainty 1.0\n",
      "Predict that shoe_pics/split/test/others/cropped474.jpg is others with certainty 1.0\n",
      "Predict that shoe_pics/split/test/others/cropped1190.jpg is others with certainty 0.99999\n",
      "Predict that shoe_pics/split/test/others/cropped3221.jpg is others with certainty 0.9999968\n",
      "Predict that shoe_pics/split/test/others/cropped426.jpg is others with certainty 0.99991035\n",
      "Predict that shoe_pics/split/test/others/cropped1894.jpg is others with certainty 0.9997576\n",
      "Predict that shoe_pics/split/test/others/cropped1841.jpg is others with certainty 0.9999988\n",
      "Predict that shoe_pics/split/test/others/cropped847.jpg is others with certainty 0.9999275\n",
      "Predict that shoe_pics/split/test/others/cropped3360.jpg is others with certainty 0.9653767\n",
      "Predict that shoe_pics/split/test/others/cropped2970.jpg is others with certainty 0.99978834\n",
      "Predict that shoe_pics/split/test/others/cropped1704.jpg is others with certainty 0.9999987\n",
      "Predict that shoe_pics/split/test/others/cropped3685.jpg is others with certainty 0.99576217\n",
      "Predict that shoe_pics/split/test/others/cropped3409.jpg is others with certainty 0.9999988\n",
      "Predict that shoe_pics/split/test/others/cropped2057.jpg is others with certainty 0.99756277\n"
     ]
    },
    {
     "name": "stdout",
     "output_type": "stream",
     "text": [
      "Predict that shoe_pics/split/test/others/cropped757.jpg is others with certainty 0.9999995\n",
      "Predict that shoe_pics/split/test/others/cropped1722.jpg is others with certainty 0.99999523\n",
      "Predict that shoe_pics/split/test/others/cropped2394.jpg is others with certainty 0.9995473\n",
      "Predict that shoe_pics/split/test/others/cropped1550.jpg is others with certainty 0.9999746\n",
      "Predict that shoe_pics/split/test/others/cropped33.jpg is others with certainty 0.99999523\n",
      "Predict that shoe_pics/split/test/others/cropped78.jpg is others with certainty 0.9999013\n",
      "Predict that shoe_pics/split/test/others/cropped3094.jpg is others with certainty 0.9998808\n",
      "Predict that shoe_pics/split/test/others/cropped3435.jpg is others with certainty 0.99999857\n",
      "Predict that shoe_pics/split/test/others/cropped2810.jpg is others with certainty 0.9983979\n",
      "Predict that shoe_pics/split/test/others/cropped1375.jpg is others with certainty 1.0\n",
      "Predict that shoe_pics/split/test/others/cropped3266.jpg is others with certainty 0.99951327\n",
      "Predict that shoe_pics/split/test/others/cropped1596.jpg is others with certainty 0.9999713\n",
      "Predict that shoe_pics/split/test/others/cropped803.jpg is others with certainty 0.9967423\n",
      "Predict that shoe_pics/split/test/others/cropped546.jpg is others with certainty 0.999148\n",
      "Predict that shoe_pics/split/test/others/cropped315.jpg is others with certainty 0.99999905\n",
      "Predict that shoe_pics/split/test/others/cropped2129.jpg is others with certainty 0.99997246\n",
      "Predict that shoe_pics/split/test/others/cropped3948.jpg is others with certainty 0.9999975\n",
      "Predict that shoe_pics/split/test/others/cropped2676.jpg is others with certainty 0.99969625\n",
      "Predict that shoe_pics/split/test/others/cropped1584.jpg is others with certainty 1.0\n",
      "Predict that shoe_pics/split/test/others/cropped240.jpg is others with certainty 1.0\n",
      "Predict that shoe_pics/split/test/others/cropped1060.jpg is others with certainty 0.99979633\n",
      "Predict that shoe_pics/split/test/others/cropped1088.jpg is others with certainty 0.99999833\n",
      "Predict that shoe_pics/split/test/others/cropped1623.jpg is others with certainty 0.99994075\n",
      "Predict that shoe_pics/split/test/others/cropped2154.jpg is others with certainty 0.9995521\n",
      "Predict that shoe_pics/split/test/others/cropped562.jpg is others with certainty 1.0\n",
      "Predict that shoe_pics/split/test/others/cropped730.jpg is others with certainty 0.999859\n",
      "Predict that shoe_pics/split/test/others/cropped1819.jpg is others with certainty 1.0\n",
      "Predict that shoe_pics/split/test/others/cropped1157.jpg is others with certainty 0.99997234\n",
      "Predict that shoe_pics/split/test/others/cropped2591.jpg is others with certainty 0.9999851\n",
      "Predict that shoe_pics/split/test/others/cropped506.jpg is others with certainty 0.9999155\n",
      "Predict that shoe_pics/split/test/others/cropped3979.jpg is others with certainty 0.9999962\n",
      "Predict that shoe_pics/split/test/others/cropped2048.jpg is others with certainty 0.99997437\n",
      "Predict that shoe_pics/split/test/others/cropped2585.jpg is others with certainty 0.9999999\n",
      "Predict that shoe_pics/split/test/others/cropped24.jpg is others with certainty 0.99999785\n",
      "Predict that shoe_pics/split/test/others/cropped1007.jpg is others with certainty 0.9999999\n",
      "Predict that shoe_pics/split/test/others/cropped3457.jpg is others with certainty 0.9999275\n",
      "Predict that shoe_pics/split/test/others/cropped357.jpg is others with certainty 0.9999844\n",
      "Predict that shoe_pics/split/test/others/cropped3708.jpg is others with certainty 1.0\n",
      "Predict that shoe_pics/split/test/others/cropped1664.jpg is others with certainty 1.0\n",
      "Predict that shoe_pics/split/test/others/cropped3282.jpg is others with certainty 0.99999964\n",
      "Predict that shoe_pics/split/test/others/cropped2012.jpg is others with certainty 0.9999999\n",
      "Predict that shoe_pics/split/test/others/cropped232.jpg is others with certainty 1.0\n",
      "Predict that shoe_pics/split/test/others/cropped2715.jpg is others with certainty 0.9997389\n",
      "Predict that shoe_pics/split/test/others/cropped2411.jpg is others with certainty 0.9642861\n",
      "Predict that shoe_pics/split/test/others/cropped3954.jpg is others with certainty 0.99999964\n",
      "Predict that shoe_pics/split/test/others/cropped3911.jpg is others with certainty 1.0\n",
      "Predict that shoe_pics/split/test/others/cropped3297.jpg is others with certainty 0.999995\n",
      "Predict that shoe_pics/split/test/others/cropped15.jpg is others with certainty 0.9999987\n",
      "Predict that shoe_pics/split/test/others/cropped3716.jpg is others with certainty 0.9993168\n",
      "Predict that shoe_pics/split/test/others/cropped1074.jpg is others with certainty 0.9999788\n",
      "Predict that shoe_pics/split/test/others/cropped2923.jpg is others with certainty 0.99584156\n",
      "Predict that shoe_pics/split/test/others/cropped2796.jpg is others with certainty 0.9866149\n",
      "Predict that shoe_pics/split/test/others/cropped2583.jpg is others with certainty 0.999997\n",
      "Predict that shoe_pics/split/test/others/cropped2208.jpg is others with certainty 0.9999987\n",
      "Predict that shoe_pics/split/test/others/cropped2143.jpg is others with certainty 0.99956983\n",
      "Predict that shoe_pics/split/test/others/cropped3811.jpg is others with certainty 0.9999999\n",
      "Predict that shoe_pics/split/test/others/cropped253.jpg is others with certainty 0.99999845\n",
      "Predict that shoe_pics/split/test/others/cropped2328.jpg is others with certainty 0.99999356\n",
      "Predict that shoe_pics/split/test/others/cropped3023.jpg is others with certainty 0.9901215\n",
      "Predict that shoe_pics/split/test/others/cropped3877.jpg is others with certainty 1.0\n",
      "Predict that shoe_pics/split/test/others/cropped1203.jpg is others with certainty 0.9999995\n",
      "Predict that shoe_pics/split/test/others/cropped2011.jpg is others with certainty 0.99999917\n",
      "Predict that shoe_pics/split/test/others/cropped3344.jpg is others with certainty 0.9999999\n",
      "Predict that shoe_pics/split/test/others/cropped3918.jpg is others with certainty 0.99999774\n",
      "Predict that shoe_pics/split/test/others/cropped3805.jpg is others with certainty 0.9998952\n",
      "Predict that shoe_pics/split/test/others/cropped3912.jpg is others with certainty 1.0\n",
      "Predict that shoe_pics/split/test/others/cropped2323.jpg is others with certainty 0.99979144\n",
      "Predict that shoe_pics/split/test/others/cropped209.jpg is others with certainty 0.99999964\n",
      "Predict that shoe_pics/split/test/others/cropped127.jpg is others with certainty 0.99992585\n",
      "Predict that shoe_pics/split/test/others/cropped352.jpg is others with certainty 0.9999999\n",
      "Predict that shoe_pics/split/test/others/cropped8.jpg is others with certainty 1.0\n",
      "Predict that shoe_pics/split/test/others/cropped3125.jpg is others with certainty 0.99940646\n",
      "Predict that shoe_pics/split/test/others/cropped1238.jpg is others with certainty 1.0\n",
      "Predict that shoe_pics/split/test/others/cropped3771.jpg is others with certainty 0.9999999\n",
      "Predict that shoe_pics/split/test/others/cropped3859.jpg is others with certainty 0.99999833\n",
      "Predict that shoe_pics/split/test/others/cropped1543.jpg is others with certainty 0.9999994\n",
      "Predict that shoe_pics/split/test/others/cropped737.jpg is others with certainty 0.9999943\n",
      "Predict that shoe_pics/split/test/others/cropped1786.jpg is others with certainty 1.0\n",
      "Predict that shoe_pics/split/test/others/cropped1781.jpg is others with certainty 1.0\n",
      "Predict that shoe_pics/split/test/others/cropped3609.jpg is others with certainty 0.9979278\n",
      "Predict that shoe_pics/split/test/others/cropped3157.jpg is others with certainty 0.97413075\n",
      "Predict that shoe_pics/split/test/others/cropped2935.jpg is others with certainty 0.9999486\n",
      "Predict that shoe_pics/split/test/others/cropped2581.jpg is others with certainty 0.994286\n",
      "Predict that shoe_pics/split/test/others/cropped2697.jpg is others with certainty 0.9999546\n",
      "Predict that shoe_pics/split/test/others/cropped784.jpg is others with certainty 0.99999976\n",
      "Predict that shoe_pics/split/test/others/cropped1870.jpg is others with certainty 1.0\n",
      "Predict that shoe_pics/split/test/others/cropped2618.jpg is others with certainty 0.9989937\n",
      "Predict that shoe_pics/split/test/others/cropped1711.jpg is others with certainty 1.0\n",
      "Predict that shoe_pics/split/test/others/cropped2699.jpg is others with certainty 1.0\n",
      "Predict that shoe_pics/split/test/others/cropped1643.jpg is others with certainty 0.9999999\n",
      "Predict that shoe_pics/split/test/others/cropped2481.jpg is others with certainty 0.9999777\n",
      "Predict that shoe_pics/split/test/others/cropped314.jpg is others with certainty 0.99999976\n",
      "Predict that shoe_pics/split/test/others/cropped1871.jpg is others with certainty 1.0\n"
     ]
    },
    {
     "name": "stdout",
     "output_type": "stream",
     "text": [
      "Predict that shoe_pics/split/test/others/cropped2566.jpg is others with certainty 0.9999292\n",
      "Predict that shoe_pics/split/test/others/cropped3712.jpg is others with certainty 0.9960722\n",
      "Predict that shoe_pics/split/test/others/cropped1243.jpg is others with certainty 0.9999975\n",
      "Predict that shoe_pics/split/test/others/cropped1714.jpg is others with certainty 0.9998915\n",
      "Predict that shoe_pics/split/test/others/cropped2857.jpg is others with certainty 0.999964\n",
      "Predict that shoe_pics/split/test/others/cropped3355.jpg is others with certainty 0.99999964\n",
      "Predict that shoe_pics/split/test/others/cropped571.jpg is others with certainty 0.945656\n",
      "Predict that shoe_pics/split/test/others/cropped2683.jpg is others with certainty 0.9991793\n",
      "Predict that shoe_pics/split/test/others/cropped3493.jpg is others with certainty 1.0\n",
      "Predict that shoe_pics/split/test/others/cropped3940.jpg is others with certainty 0.99133646\n",
      "Predict that shoe_pics/split/test/others/cropped226.jpg is others with certainty 0.9999999\n",
      "Predict that shoe_pics/split/test/others/cropped376.jpg is others with certainty 0.9999937\n",
      "Predict that shoe_pics/split/test/others/cropped3361.jpg is others with certainty 0.99999976\n",
      "Predict that shoe_pics/split/test/others/cropped3966.jpg is others with certainty 0.99984324\n",
      "Predict that shoe_pics/split/test/others/cropped3749.jpg is others with certainty 1.0\n",
      "Predict that shoe_pics/split/test/others/cropped2278.jpg is others with certainty 0.9988986\n",
      "Predict that shoe_pics/split/test/others/cropped2572.jpg is others with certainty 0.9986878\n",
      "Predict that shoe_pics/split/test/others/cropped3193.jpg is tariq with certainty 0.54803324\n",
      "Predict that shoe_pics/split/test/others/cropped1294.jpg is others with certainty 0.99998784\n",
      "Predict that shoe_pics/split/test/others/cropped3838.jpg is others with certainty 0.99999726\n",
      "Predict that shoe_pics/split/test/others/cropped680.jpg is others with certainty 0.95785886\n",
      "Predict that shoe_pics/split/test/others/cropped3041.jpg is others with certainty 0.999074\n",
      "Predict that shoe_pics/split/test/others/cropped393.jpg is others with certainty 0.999984\n",
      "Predict that shoe_pics/split/test/others/cropped2122.jpg is others with certainty 0.99998593\n",
      "Predict that shoe_pics/split/test/others/cropped377.jpg is others with certainty 0.9914443\n",
      "Predict that shoe_pics/split/test/others/cropped2395.jpg is others with certainty 0.9999945\n",
      "Predict that shoe_pics/split/test/others/cropped3258.jpg is others with certainty 1.0\n",
      "Predict that shoe_pics/split/test/others/cropped2998.jpg is others with certainty 0.99609154\n",
      "Predict that shoe_pics/split/test/others/cropped3126.jpg is others with certainty 0.9999995\n",
      "Predict that shoe_pics/split/test/others/cropped1055.jpg is others with certainty 0.99992263\n",
      "Predict that shoe_pics/split/test/others/cropped2485.jpg is others with certainty 0.99926645\n",
      "Predict that shoe_pics/split/test/others/cropped2342.jpg is others with certainty 0.98894715\n",
      "Predict that shoe_pics/split/test/others/cropped140.jpg is others with certainty 1.0\n",
      "Predict that shoe_pics/split/test/others/cropped1608.jpg is others with certainty 0.99999976\n",
      "Predict that shoe_pics/split/test/others/cropped3892.jpg is others with certainty 0.9058696\n",
      "Predict that shoe_pics/split/test/others/cropped2946.jpg is others with certainty 0.99988043\n",
      "Predict that shoe_pics/split/test/others/cropped381.jpg is others with certainty 0.9999788\n",
      "Predict that shoe_pics/split/test/others/cropped249.jpg is others with certainty 1.0\n",
      "Predict that shoe_pics/split/test/others/cropped3610.jpg is others with certainty 1.0\n",
      "Predict that shoe_pics/split/test/others/cropped1814.jpg is others with certainty 0.9999968\n",
      "Predict that shoe_pics/split/test/others/cropped444.jpg is others with certainty 0.99999976\n",
      "Predict that shoe_pics/split/test/others/cropped1713.jpg is others with certainty 0.9997522\n",
      "Predict that shoe_pics/split/test/others/cropped25.jpg is others with certainty 0.9999995\n",
      "Predict that shoe_pics/split/test/others/cropped3556.jpg is others with certainty 0.99999464\n",
      "Predict that shoe_pics/split/test/others/cropped3300.jpg is others with certainty 1.0\n",
      "Predict that shoe_pics/split/test/others/cropped723.jpg is others with certainty 0.99997985\n",
      "Predict that shoe_pics/split/test/others/cropped2346.jpg is others with certainty 0.9997453\n",
      "Predict that shoe_pics/split/test/others/cropped2990.jpg is others with certainty 0.9842808\n",
      "Predict that shoe_pics/split/test/others/cropped511.jpg is others with certainty 1.0\n",
      "Predict that shoe_pics/split/test/others/cropped1529.jpg is others with certainty 1.0\n",
      "Predict that shoe_pics/split/test/others/cropped897.jpg is others with certainty 0.8616442\n",
      "Predict that shoe_pics/split/test/others/cropped3962.jpg is others with certainty 1.0\n",
      "Predict that shoe_pics/split/test/others/cropped193.jpg is others with certainty 1.0\n",
      "Predict that shoe_pics/split/test/others/cropped3575.jpg is others with certainty 0.99997425\n",
      "Predict that shoe_pics/split/test/others/cropped19.jpg is others with certainty 0.9926474\n",
      "Predict that shoe_pics/split/test/others/cropped2393.jpg is others with certainty 1.0\n",
      "Predict that shoe_pics/split/test/others/cropped3024.jpg is others with certainty 0.9999198\n",
      "Predict that shoe_pics/split/test/others/cropped1724.jpg is others with certainty 0.9999999\n",
      "Predict that shoe_pics/split/test/others/cropped1377.jpg is others with certainty 0.9999964\n",
      "Predict that shoe_pics/split/test/others/cropped953.jpg is others with certainty 0.9999937\n",
      "Predict that shoe_pics/split/test/others/cropped1263.jpg is others with certainty 1.0\n",
      "Predict that shoe_pics/split/test/others/cropped1134.jpg is others with certainty 0.99995255\n",
      "Predict that shoe_pics/split/test/others/cropped973.jpg is others with certainty 0.9999902\n",
      "Predict that shoe_pics/split/test/others/cropped402.jpg is others with certainty 0.99999917\n",
      "Predict that shoe_pics/split/test/others/cropped3226.jpg is others with certainty 0.999826\n",
      "Predict that shoe_pics/split/test/others/cropped375.jpg is others with certainty 0.99999857\n",
      "Predict that shoe_pics/split/test/others/cropped3339.jpg is others with certainty 0.99999774\n",
      "Predict that shoe_pics/split/test/others/cropped1155.jpg is others with certainty 1.0\n",
      "Predict that shoe_pics/split/test/others/cropped2228.jpg is others with certainty 0.99983203\n",
      "Predict that shoe_pics/split/test/others/cropped3742.jpg is others with certainty 1.0\n",
      "Predict that shoe_pics/split/test/others/cropped2861.jpg is others with certainty 0.9999461\n",
      "Predict that shoe_pics/split/test/others/cropped1511.jpg is others with certainty 0.99999976\n",
      "Predict that shoe_pics/split/test/others/cropped294.jpg is others with certainty 0.9999993\n",
      "Predict that shoe_pics/split/test/others/cropped2468.jpg is others with certainty 0.9998982\n",
      "Predict that shoe_pics/split/test/others/cropped2280.jpg is others with certainty 0.99907863\n",
      "Predict that shoe_pics/split/test/others/cropped1587.jpg is others with certainty 0.9996363\n",
      "Predict that shoe_pics/split/test/others/cropped1416.jpg is others with certainty 1.0\n",
      "Predict that shoe_pics/split/test/others/cropped984.jpg is others with certainty 0.9980578\n",
      "Predict that shoe_pics/split/test/others/cropped1753.jpg is others with certainty 1.0\n",
      "Predict that shoe_pics/split/test/others/cropped2297.jpg is others with certainty 0.9999982\n",
      "Predict that shoe_pics/split/test/others/cropped719.jpg is others with certainty 0.99999917\n",
      "Predict that shoe_pics/split/test/others/cropped348.jpg is others with certainty 1.0\n",
      "Predict that shoe_pics/split/test/others/cropped689.jpg is others with certainty 0.99905366\n",
      "Predict that shoe_pics/split/test/others/cropped0.jpg is others with certainty 1.0\n",
      "Predict that shoe_pics/split/test/others/cropped3317.jpg is others with certainty 0.9815941\n",
      "Predict that shoe_pics/split/test/others/cropped257.jpg is others with certainty 0.9999999\n",
      "Predict that shoe_pics/split/test/others/cropped3546.jpg is others with certainty 1.0\n",
      "Predict that shoe_pics/split/test/others/cropped2446.jpg is others with certainty 0.9999571\n",
      "Predict that shoe_pics/split/test/others/cropped2003.jpg is others with certainty 0.9999999\n",
      "Predict that shoe_pics/split/test/others/cropped3188.jpg is others with certainty 0.9996487\n",
      "Predict that shoe_pics/split/test/others/cropped1063.jpg is others with certainty 1.0\n",
      "Predict that shoe_pics/split/test/others/cropped1390.jpg is others with certainty 0.99995005\n",
      "Predict that shoe_pics/split/test/others/cropped280.jpg is others with certainty 1.0\n"
     ]
    },
    {
     "name": "stdout",
     "output_type": "stream",
     "text": [
      "Predict that shoe_pics/split/test/others/cropped3044.jpg is others with certainty 0.9983713\n",
      "Predict that shoe_pics/split/test/others/cropped3063.jpg is others with certainty 0.99546224\n",
      "Predict that shoe_pics/split/test/others/cropped3642.jpg is others with certainty 0.99994195\n",
      "Predict that shoe_pics/split/test/others/cropped2727.jpg is others with certainty 0.9999893\n",
      "Predict that shoe_pics/split/test/others/cropped3392.jpg is others with certainty 0.99999976\n",
      "Predict that shoe_pics/split/test/others/cropped3016.jpg is others with certainty 0.99989545\n",
      "Predict that shoe_pics/split/test/others/cropped1718.jpg is others with certainty 0.99999905\n",
      "Predict that shoe_pics/split/test/others/cropped3618.jpg is others with certainty 0.9999999\n",
      "Predict that shoe_pics/split/test/others/cropped262.jpg is others with certainty 1.0\n",
      "Predict that shoe_pics/split/test/others/cropped3640.jpg is others with certainty 0.99999714\n",
      "Predict that shoe_pics/split/test/others/cropped3696.jpg is others with certainty 0.99855417\n",
      "Predict that shoe_pics/split/test/others/cropped1195.jpg is others with certainty 0.99994326\n",
      "Predict that shoe_pics/split/test/others/cropped2108.jpg is others with certainty 0.9999988\n",
      "Predict that shoe_pics/split/test/others/cropped3334.jpg is others with certainty 0.9896293\n",
      "Predict that shoe_pics/split/test/others/cropped694.jpg is others with certainty 0.99999654\n",
      "Predict that shoe_pics/split/test/others/cropped3624.jpg is others with certainty 1.0\n",
      "Predict that shoe_pics/split/test/others/cropped769.jpg is others with certainty 0.99999654\n",
      "Predict that shoe_pics/split/test/others/cropped748.jpg is others with certainty 0.9999938\n",
      "Predict that shoe_pics/split/test/others/cropped3025.jpg is others with certainty 1.0\n",
      "Predict that shoe_pics/split/test/others/cropped3391.jpg is others with certainty 0.9999999\n",
      "Predict that shoe_pics/split/test/others/cropped2495.jpg is others with certainty 0.9997379\n",
      "Predict that shoe_pics/split/test/others/cropped3176.jpg is others with certainty 0.99991393\n",
      "Predict that shoe_pics/split/test/others/cropped2159.jpg is others with certainty 0.9999639\n",
      "Predict that shoe_pics/split/test/others/cropped2964.jpg is others with certainty 0.9999486\n",
      "Predict that shoe_pics/split/test/others/cropped1546.jpg is others with certainty 1.0\n",
      "Predict that shoe_pics/split/test/others/cropped1383.jpg is others with certainty 1.0\n",
      "Predict that shoe_pics/split/test/others/cropped1766.jpg is others with certainty 0.99999976\n",
      "Predict that shoe_pics/split/test/others/cropped2162.jpg is others with certainty 0.9999473\n",
      "Predict that shoe_pics/split/test/others/cropped333.jpg is others with certainty 1.0\n",
      "Predict that shoe_pics/split/test/others/cropped1723.jpg is others with certainty 1.0\n",
      "Predict that shoe_pics/split/test/others/cropped2941.jpg is others with certainty 0.9997974\n",
      "Predict that shoe_pics/split/test/others/cropped817.jpg is others with certainty 0.9999993\n",
      "Predict that shoe_pics/split/test/others/cropped3500.jpg is others with certainty 0.9990067\n",
      "Predict that shoe_pics/split/test/others/cropped3706.jpg is others with certainty 0.9891704\n",
      "Predict that shoe_pics/split/test/others/cropped627.jpg is others with certainty 0.99999595\n",
      "Predict that shoe_pics/split/test/others/cropped1215.jpg is others with certainty 1.0\n",
      "Predict that shoe_pics/split/test/others/cropped1963.jpg is others with certainty 0.9999435\n",
      "Predict that shoe_pics/split/test/others/cropped385.jpg is others with certainty 0.9999976\n",
      "Predict that shoe_pics/split/test/others/cropped2308.jpg is others with certainty 1.0\n",
      "Predict that shoe_pics/split/test/others/cropped2017.jpg is others with certainty 0.9999385\n",
      "Predict that shoe_pics/split/test/others/cropped2430.jpg is others with certainty 0.9999958\n",
      "Predict that shoe_pics/split/test/others/cropped3856.jpg is others with certainty 1.0\n",
      "Predict that shoe_pics/split/test/others/cropped3659.jpg is others with certainty 0.9984034\n",
      "Predict that shoe_pics/split/test/others/cropped1313.jpg is others with certainty 0.9999999\n",
      "Predict that shoe_pics/split/test/others/cropped2621.jpg is others with certainty 0.9997348\n",
      "Predict that shoe_pics/split/test/others/cropped2440.jpg is others with certainty 0.99988735\n",
      "Predict that shoe_pics/split/test/others/cropped1571.jpg is others with certainty 1.0\n",
      "Predict that shoe_pics/split/test/others/cropped1053.jpg is others with certainty 0.99970204\n",
      "Predict that shoe_pics/split/test/others/cropped1576.jpg is others with certainty 1.0\n",
      "Predict that shoe_pics/split/test/others/cropped936.jpg is others with certainty 0.9999994\n",
      "Predict that shoe_pics/split/test/others/cropped3320.jpg is others with certainty 0.999778\n",
      "Predict that shoe_pics/split/test/others/cropped3249.jpg is others with certainty 0.9999231\n",
      "Predict that shoe_pics/split/test/others/cropped2698.jpg is others with certainty 0.99981016\n",
      "Predict that shoe_pics/split/test/others/cropped370.jpg is others with certainty 0.9984945\n",
      "Predict that shoe_pics/split/test/others/cropped1183.jpg is others with certainty 0.99999845\n",
      "Predict that shoe_pics/split/test/others/cropped3370.jpg is others with certainty 0.9999981\n",
      "Predict that shoe_pics/split/test/others/cropped1142.jpg is others with certainty 0.9999993\n",
      "Predict that shoe_pics/split/test/others/cropped1434.jpg is others with certainty 1.0\n",
      "Predict that shoe_pics/split/test/others/cropped3338.jpg is others with certainty 1.0\n",
      "Predict that shoe_pics/split/test/others/cropped3095.jpg is others with certainty 0.9967272\n",
      "Predict that shoe_pics/split/test/others/cropped922.jpg is others with certainty 0.9999753\n",
      "Predict that shoe_pics/split/test/others/cropped3030.jpg is others with certainty 0.999874\n",
      "Predict that shoe_pics/split/test/others/cropped2537.jpg is others with certainty 0.99997747\n",
      "Accuracy: 0.9944289693593314\n"
     ]
    }
   ],
   "source": [
    "from tensorflow.python.keras.backend import set_session\n",
    "\n",
    "session = tf.compat.v1.Session(graph = tf.compat.v1.Graph())\n",
    "\n",
    "samplePath = base_folder + \"split/test/\"\n",
    "\n",
    "catgs = {0:\"others\", 1:\"rik\", 2:\"tariq\", 3:\"victor\"}\n",
    "\n",
    "def classify(model, image):\n",
    "    with session.graph.as_default():\n",
    "        set_session(session)\n",
    "        result = model.predict(image)\n",
    "        themax = np.argmax(result)\n",
    "\n",
    "    return (catgs[themax], result[0][themax], themax)\n",
    "\n",
    "def load_image(image_fname):\n",
    "    img = Image.open(image_fname)\n",
    "    img = img.resize((249, 249))\n",
    "    imgarray = np.array(img)/255.0\n",
    "    final = np.expand_dims(imgarray, axis=0)\n",
    "    return final\n",
    "\n",
    "score = {\"Correct\": 0, \"Incorrect\": 0}\n",
    "\n",
    "with session.graph.as_default():\n",
    "    set_session(session)\n",
    "    model = load_model(MODEL_FILE)\n",
    "\n",
    "    for catg in names + [\"others\"]:\n",
    "        path = samplePath + catg + \"/\"\n",
    "        sample_files = os.listdir(path)\n",
    "\n",
    "        for filename in sample_files:\n",
    "            filename = os.path.join(path, filename)\n",
    "            img = load_image(filename)\n",
    "            label,prob,_ = classify(model, img)\n",
    "\n",
    "            print(\"Predict that %s is %s with certainty %s\" % (filename, label, prob))\n",
    "            if label != catg:\n",
    "                score[\"Incorrect\"] += 1\n",
    "            else:\n",
    "                score[\"Correct\"] += 1\n",
    "print(\"Accuracy: %s\" % str(score[\"Correct\"] / (score[\"Correct\"] + score[\"Incorrect\"])))"
   ]
  },
  {
   "cell_type": "code",
   "execution_count": null,
   "id": "4ada796e",
   "metadata": {},
   "outputs": [],
   "source": []
  }
 ],
 "metadata": {
  "kernelspec": {
   "display_name": "Python 3 (ipykernel)",
   "language": "python",
   "name": "python3"
  },
  "language_info": {
   "codemirror_mode": {
    "name": "ipython",
    "version": 3
   },
   "file_extension": ".py",
   "mimetype": "text/x-python",
   "name": "python",
   "nbconvert_exporter": "python",
   "pygments_lexer": "ipython3",
   "version": "3.8.10"
  }
 },
 "nbformat": 4,
 "nbformat_minor": 5
}
